{
 "cells": [
  {
   "cell_type": "code",
   "execution_count": null,
   "source": [
    "#######  Author: Midhun Kumar #########\n",
    "########## Version: 1.0 ###############"
   ],
   "outputs": [],
   "metadata": {}
  },
  {
   "cell_type": "code",
   "execution_count": 2,
   "source": [
    "#Importing Necessary Libraries for ploting and data Visualization \n",
    "import numpy as np\n",
    "import pandas as pd\n",
    "import seaborn as sns\n",
    "import matplotlib.pyplot as plt\n",
    "\n",
    "#Supress warnings \n",
    "import warnings \n",
    "warnings.filterwarnings('ignore')\n",
    "\n",
    "#sklearn Libraries\n",
    "#from sklearn.preprocessing import OneHotEncoder\n",
    "from sklearn.preprocessing import StandardScaler\n",
    "from sklearn.model_selection import train_test_split,GridSearchCV,KFold\n",
    "from sklearn.linear_model import LinearRegression,Ridge,Lasso\n",
    "from sklearn.metrics import r2_score\n",
    "from sklearn.feature_selection import RFE\n"
   ],
   "outputs": [],
   "metadata": {}
  },
  {
   "cell_type": "code",
   "execution_count": 3,
   "source": [
    "#Importing dataset\n",
    "master_df = pd.read_csv(\"train.csv\")"
   ],
   "outputs": [],
   "metadata": {}
  },
  {
   "cell_type": "code",
   "execution_count": 4,
   "source": [
    "#understanding the data\n",
    "master_df.head()"
   ],
   "outputs": [
    {
     "output_type": "execute_result",
     "data": {
      "text/plain": [
       "   Id  MSSubClass MSZoning  LotFrontage  LotArea Street Alley LotShape  \\\n",
       "0   1          60       RL         65.0     8450   Pave   NaN      Reg   \n",
       "1   2          20       RL         80.0     9600   Pave   NaN      Reg   \n",
       "2   3          60       RL         68.0    11250   Pave   NaN      IR1   \n",
       "3   4          70       RL         60.0     9550   Pave   NaN      IR1   \n",
       "4   5          60       RL         84.0    14260   Pave   NaN      IR1   \n",
       "\n",
       "  LandContour Utilities  ... PoolArea PoolQC Fence MiscFeature MiscVal MoSold  \\\n",
       "0         Lvl    AllPub  ...        0    NaN   NaN         NaN       0      2   \n",
       "1         Lvl    AllPub  ...        0    NaN   NaN         NaN       0      5   \n",
       "2         Lvl    AllPub  ...        0    NaN   NaN         NaN       0      9   \n",
       "3         Lvl    AllPub  ...        0    NaN   NaN         NaN       0      2   \n",
       "4         Lvl    AllPub  ...        0    NaN   NaN         NaN       0     12   \n",
       "\n",
       "  YrSold  SaleType  SaleCondition  SalePrice  \n",
       "0   2008        WD         Normal     208500  \n",
       "1   2007        WD         Normal     181500  \n",
       "2   2008        WD         Normal     223500  \n",
       "3   2006        WD        Abnorml     140000  \n",
       "4   2008        WD         Normal     250000  \n",
       "\n",
       "[5 rows x 81 columns]"
      ],
      "text/html": [
       "<div>\n",
       "<style scoped>\n",
       "    .dataframe tbody tr th:only-of-type {\n",
       "        vertical-align: middle;\n",
       "    }\n",
       "\n",
       "    .dataframe tbody tr th {\n",
       "        vertical-align: top;\n",
       "    }\n",
       "\n",
       "    .dataframe thead th {\n",
       "        text-align: right;\n",
       "    }\n",
       "</style>\n",
       "<table border=\"1\" class=\"dataframe\">\n",
       "  <thead>\n",
       "    <tr style=\"text-align: right;\">\n",
       "      <th></th>\n",
       "      <th>Id</th>\n",
       "      <th>MSSubClass</th>\n",
       "      <th>MSZoning</th>\n",
       "      <th>LotFrontage</th>\n",
       "      <th>LotArea</th>\n",
       "      <th>Street</th>\n",
       "      <th>Alley</th>\n",
       "      <th>LotShape</th>\n",
       "      <th>LandContour</th>\n",
       "      <th>Utilities</th>\n",
       "      <th>...</th>\n",
       "      <th>PoolArea</th>\n",
       "      <th>PoolQC</th>\n",
       "      <th>Fence</th>\n",
       "      <th>MiscFeature</th>\n",
       "      <th>MiscVal</th>\n",
       "      <th>MoSold</th>\n",
       "      <th>YrSold</th>\n",
       "      <th>SaleType</th>\n",
       "      <th>SaleCondition</th>\n",
       "      <th>SalePrice</th>\n",
       "    </tr>\n",
       "  </thead>\n",
       "  <tbody>\n",
       "    <tr>\n",
       "      <th>0</th>\n",
       "      <td>1</td>\n",
       "      <td>60</td>\n",
       "      <td>RL</td>\n",
       "      <td>65.0</td>\n",
       "      <td>8450</td>\n",
       "      <td>Pave</td>\n",
       "      <td>NaN</td>\n",
       "      <td>Reg</td>\n",
       "      <td>Lvl</td>\n",
       "      <td>AllPub</td>\n",
       "      <td>...</td>\n",
       "      <td>0</td>\n",
       "      <td>NaN</td>\n",
       "      <td>NaN</td>\n",
       "      <td>NaN</td>\n",
       "      <td>0</td>\n",
       "      <td>2</td>\n",
       "      <td>2008</td>\n",
       "      <td>WD</td>\n",
       "      <td>Normal</td>\n",
       "      <td>208500</td>\n",
       "    </tr>\n",
       "    <tr>\n",
       "      <th>1</th>\n",
       "      <td>2</td>\n",
       "      <td>20</td>\n",
       "      <td>RL</td>\n",
       "      <td>80.0</td>\n",
       "      <td>9600</td>\n",
       "      <td>Pave</td>\n",
       "      <td>NaN</td>\n",
       "      <td>Reg</td>\n",
       "      <td>Lvl</td>\n",
       "      <td>AllPub</td>\n",
       "      <td>...</td>\n",
       "      <td>0</td>\n",
       "      <td>NaN</td>\n",
       "      <td>NaN</td>\n",
       "      <td>NaN</td>\n",
       "      <td>0</td>\n",
       "      <td>5</td>\n",
       "      <td>2007</td>\n",
       "      <td>WD</td>\n",
       "      <td>Normal</td>\n",
       "      <td>181500</td>\n",
       "    </tr>\n",
       "    <tr>\n",
       "      <th>2</th>\n",
       "      <td>3</td>\n",
       "      <td>60</td>\n",
       "      <td>RL</td>\n",
       "      <td>68.0</td>\n",
       "      <td>11250</td>\n",
       "      <td>Pave</td>\n",
       "      <td>NaN</td>\n",
       "      <td>IR1</td>\n",
       "      <td>Lvl</td>\n",
       "      <td>AllPub</td>\n",
       "      <td>...</td>\n",
       "      <td>0</td>\n",
       "      <td>NaN</td>\n",
       "      <td>NaN</td>\n",
       "      <td>NaN</td>\n",
       "      <td>0</td>\n",
       "      <td>9</td>\n",
       "      <td>2008</td>\n",
       "      <td>WD</td>\n",
       "      <td>Normal</td>\n",
       "      <td>223500</td>\n",
       "    </tr>\n",
       "    <tr>\n",
       "      <th>3</th>\n",
       "      <td>4</td>\n",
       "      <td>70</td>\n",
       "      <td>RL</td>\n",
       "      <td>60.0</td>\n",
       "      <td>9550</td>\n",
       "      <td>Pave</td>\n",
       "      <td>NaN</td>\n",
       "      <td>IR1</td>\n",
       "      <td>Lvl</td>\n",
       "      <td>AllPub</td>\n",
       "      <td>...</td>\n",
       "      <td>0</td>\n",
       "      <td>NaN</td>\n",
       "      <td>NaN</td>\n",
       "      <td>NaN</td>\n",
       "      <td>0</td>\n",
       "      <td>2</td>\n",
       "      <td>2006</td>\n",
       "      <td>WD</td>\n",
       "      <td>Abnorml</td>\n",
       "      <td>140000</td>\n",
       "    </tr>\n",
       "    <tr>\n",
       "      <th>4</th>\n",
       "      <td>5</td>\n",
       "      <td>60</td>\n",
       "      <td>RL</td>\n",
       "      <td>84.0</td>\n",
       "      <td>14260</td>\n",
       "      <td>Pave</td>\n",
       "      <td>NaN</td>\n",
       "      <td>IR1</td>\n",
       "      <td>Lvl</td>\n",
       "      <td>AllPub</td>\n",
       "      <td>...</td>\n",
       "      <td>0</td>\n",
       "      <td>NaN</td>\n",
       "      <td>NaN</td>\n",
       "      <td>NaN</td>\n",
       "      <td>0</td>\n",
       "      <td>12</td>\n",
       "      <td>2008</td>\n",
       "      <td>WD</td>\n",
       "      <td>Normal</td>\n",
       "      <td>250000</td>\n",
       "    </tr>\n",
       "  </tbody>\n",
       "</table>\n",
       "<p>5 rows × 81 columns</p>\n",
       "</div>"
      ]
     },
     "metadata": {},
     "execution_count": 4
    }
   ],
   "metadata": {}
  },
  {
   "cell_type": "code",
   "execution_count": 5,
   "source": [
    "master_df.shape"
   ],
   "outputs": [
    {
     "output_type": "execute_result",
     "data": {
      "text/plain": [
       "(1460, 81)"
      ]
     },
     "metadata": {},
     "execution_count": 5
    }
   ],
   "metadata": {}
  },
  {
   "cell_type": "code",
   "execution_count": 6,
   "source": [
    "#understanding the data types and columns\n",
    "master_df.info()"
   ],
   "outputs": [
    {
     "output_type": "stream",
     "name": "stdout",
     "text": [
      "<class 'pandas.core.frame.DataFrame'>\n",
      "RangeIndex: 1460 entries, 0 to 1459\n",
      "Data columns (total 81 columns):\n",
      " #   Column         Non-Null Count  Dtype  \n",
      "---  ------         --------------  -----  \n",
      " 0   Id             1460 non-null   int64  \n",
      " 1   MSSubClass     1460 non-null   int64  \n",
      " 2   MSZoning       1460 non-null   object \n",
      " 3   LotFrontage    1201 non-null   float64\n",
      " 4   LotArea        1460 non-null   int64  \n",
      " 5   Street         1460 non-null   object \n",
      " 6   Alley          91 non-null     object \n",
      " 7   LotShape       1460 non-null   object \n",
      " 8   LandContour    1460 non-null   object \n",
      " 9   Utilities      1460 non-null   object \n",
      " 10  LotConfig      1460 non-null   object \n",
      " 11  LandSlope      1460 non-null   object \n",
      " 12  Neighborhood   1460 non-null   object \n",
      " 13  Condition1     1460 non-null   object \n",
      " 14  Condition2     1460 non-null   object \n",
      " 15  BldgType       1460 non-null   object \n",
      " 16  HouseStyle     1460 non-null   object \n",
      " 17  OverallQual    1460 non-null   int64  \n",
      " 18  OverallCond    1460 non-null   int64  \n",
      " 19  YearBuilt      1460 non-null   int64  \n",
      " 20  YearRemodAdd   1460 non-null   int64  \n",
      " 21  RoofStyle      1460 non-null   object \n",
      " 22  RoofMatl       1460 non-null   object \n",
      " 23  Exterior1st    1460 non-null   object \n",
      " 24  Exterior2nd    1460 non-null   object \n",
      " 25  MasVnrType     1452 non-null   object \n",
      " 26  MasVnrArea     1452 non-null   float64\n",
      " 27  ExterQual      1460 non-null   object \n",
      " 28  ExterCond      1460 non-null   object \n",
      " 29  Foundation     1460 non-null   object \n",
      " 30  BsmtQual       1423 non-null   object \n",
      " 31  BsmtCond       1423 non-null   object \n",
      " 32  BsmtExposure   1422 non-null   object \n",
      " 33  BsmtFinType1   1423 non-null   object \n",
      " 34  BsmtFinSF1     1460 non-null   int64  \n",
      " 35  BsmtFinType2   1422 non-null   object \n",
      " 36  BsmtFinSF2     1460 non-null   int64  \n",
      " 37  BsmtUnfSF      1460 non-null   int64  \n",
      " 38  TotalBsmtSF    1460 non-null   int64  \n",
      " 39  Heating        1460 non-null   object \n",
      " 40  HeatingQC      1460 non-null   object \n",
      " 41  CentralAir     1460 non-null   object \n",
      " 42  Electrical     1459 non-null   object \n",
      " 43  1stFlrSF       1460 non-null   int64  \n",
      " 44  2ndFlrSF       1460 non-null   int64  \n",
      " 45  LowQualFinSF   1460 non-null   int64  \n",
      " 46  GrLivArea      1460 non-null   int64  \n",
      " 47  BsmtFullBath   1460 non-null   int64  \n",
      " 48  BsmtHalfBath   1460 non-null   int64  \n",
      " 49  FullBath       1460 non-null   int64  \n",
      " 50  HalfBath       1460 non-null   int64  \n",
      " 51  BedroomAbvGr   1460 non-null   int64  \n",
      " 52  KitchenAbvGr   1460 non-null   int64  \n",
      " 53  KitchenQual    1460 non-null   object \n",
      " 54  TotRmsAbvGrd   1460 non-null   int64  \n",
      " 55  Functional     1460 non-null   object \n",
      " 56  Fireplaces     1460 non-null   int64  \n",
      " 57  FireplaceQu    770 non-null    object \n",
      " 58  GarageType     1379 non-null   object \n",
      " 59  GarageYrBlt    1379 non-null   float64\n",
      " 60  GarageFinish   1379 non-null   object \n",
      " 61  GarageCars     1460 non-null   int64  \n",
      " 62  GarageArea     1460 non-null   int64  \n",
      " 63  GarageQual     1379 non-null   object \n",
      " 64  GarageCond     1379 non-null   object \n",
      " 65  PavedDrive     1460 non-null   object \n",
      " 66  WoodDeckSF     1460 non-null   int64  \n",
      " 67  OpenPorchSF    1460 non-null   int64  \n",
      " 68  EnclosedPorch  1460 non-null   int64  \n",
      " 69  3SsnPorch      1460 non-null   int64  \n",
      " 70  ScreenPorch    1460 non-null   int64  \n",
      " 71  PoolArea       1460 non-null   int64  \n",
      " 72  PoolQC         7 non-null      object \n",
      " 73  Fence          281 non-null    object \n",
      " 74  MiscFeature    54 non-null     object \n",
      " 75  MiscVal        1460 non-null   int64  \n",
      " 76  MoSold         1460 non-null   int64  \n",
      " 77  YrSold         1460 non-null   int64  \n",
      " 78  SaleType       1460 non-null   object \n",
      " 79  SaleCondition  1460 non-null   object \n",
      " 80  SalePrice      1460 non-null   int64  \n",
      "dtypes: float64(3), int64(35), object(43)\n",
      "memory usage: 924.0+ KB\n"
     ]
    }
   ],
   "metadata": {}
  },
  {
   "cell_type": "code",
   "execution_count": 7,
   "source": [
    "#Understanding Null values\n",
    "round(master_df.isnull().sum()/len(master_df)*100,2).sort_values(ascending=False).head(50)"
   ],
   "outputs": [
    {
     "output_type": "execute_result",
     "data": {
      "text/plain": [
       "PoolQC           99.52\n",
       "MiscFeature      96.30\n",
       "Alley            93.77\n",
       "Fence            80.75\n",
       "FireplaceQu      47.26\n",
       "LotFrontage      17.74\n",
       "GarageCond        5.55\n",
       "GarageType        5.55\n",
       "GarageYrBlt       5.55\n",
       "GarageFinish      5.55\n",
       "GarageQual        5.55\n",
       "BsmtExposure      2.60\n",
       "BsmtFinType2      2.60\n",
       "BsmtFinType1      2.53\n",
       "BsmtCond          2.53\n",
       "BsmtQual          2.53\n",
       "MasVnrArea        0.55\n",
       "MasVnrType        0.55\n",
       "Electrical        0.07\n",
       "Utilities         0.00\n",
       "YearRemodAdd      0.00\n",
       "MSSubClass        0.00\n",
       "Foundation        0.00\n",
       "ExterCond         0.00\n",
       "ExterQual         0.00\n",
       "Exterior2nd       0.00\n",
       "Exterior1st       0.00\n",
       "RoofMatl          0.00\n",
       "RoofStyle         0.00\n",
       "YearBuilt         0.00\n",
       "LotConfig         0.00\n",
       "OverallCond       0.00\n",
       "OverallQual       0.00\n",
       "HouseStyle        0.00\n",
       "BldgType          0.00\n",
       "Condition2        0.00\n",
       "BsmtFinSF1        0.00\n",
       "MSZoning          0.00\n",
       "LotArea           0.00\n",
       "Street            0.00\n",
       "Condition1        0.00\n",
       "Neighborhood      0.00\n",
       "LotShape          0.00\n",
       "LandContour       0.00\n",
       "LandSlope         0.00\n",
       "SalePrice         0.00\n",
       "HeatingQC         0.00\n",
       "BsmtFinSF2        0.00\n",
       "EnclosedPorch     0.00\n",
       "Fireplaces        0.00\n",
       "dtype: float64"
      ]
     },
     "metadata": {},
     "execution_count": 7
    }
   ],
   "metadata": {}
  },
  {
   "cell_type": "code",
   "execution_count": 8,
   "source": [
    "#Dropping top 6 Columns as they have more than 15 % Null values \n",
    "house_price_child_df = master_df.drop([\"PoolQC\",\"MiscFeature\",\"Alley\",\"Fence\",\"FireplaceQu\",\"LotFrontage\"], axis=1)"
   ],
   "outputs": [],
   "metadata": {}
  },
  {
   "cell_type": "code",
   "execution_count": 9,
   "source": [
    "#Removing rows having more than 5 null values\n",
    "print(len(house_price_child_df [house_price_child_df .isnull().sum(axis=1) > 5].index))\n",
    "house_price_child_df  = house_price_child_df [house_price_child_df .isnull().sum(axis=1) <=5 ]"
   ],
   "outputs": [
    {
     "output_type": "stream",
     "name": "stdout",
     "text": [
      "7\n"
     ]
    }
   ],
   "metadata": {}
  },
  {
   "cell_type": "code",
   "execution_count": 10,
   "source": [
    "print(len(house_price_child_df [house_price_child_df .isnull().sum(axis=1) > 5].index))"
   ],
   "outputs": [
    {
     "output_type": "stream",
     "name": "stdout",
     "text": [
      "0\n"
     ]
    }
   ],
   "metadata": {}
  },
  {
   "cell_type": "code",
   "execution_count": 11,
   "source": [
    "round(house_price_child_df .isnull().sum()/len(house_price_child_df )*100,2).sort_values(ascending=False).head(50)"
   ],
   "outputs": [
    {
     "output_type": "execute_result",
     "data": {
      "text/plain": [
       "GarageType       5.09\n",
       "GarageYrBlt      5.09\n",
       "GarageFinish     5.09\n",
       "GarageCond       5.09\n",
       "GarageQual       5.09\n",
       "BsmtExposure     2.13\n",
       "BsmtFinType2     2.13\n",
       "BsmtFinType1     2.06\n",
       "BsmtCond         2.06\n",
       "BsmtQual         2.06\n",
       "MasVnrType       0.55\n",
       "MasVnrArea       0.55\n",
       "Electrical       0.07\n",
       "RoofMatl         0.00\n",
       "RoofStyle        0.00\n",
       "SalePrice        0.00\n",
       "Exterior1st      0.00\n",
       "Exterior2nd      0.00\n",
       "YearBuilt        0.00\n",
       "ExterQual        0.00\n",
       "ExterCond        0.00\n",
       "Foundation       0.00\n",
       "YearRemodAdd     0.00\n",
       "HouseStyle       0.00\n",
       "OverallCond      0.00\n",
       "OverallQual      0.00\n",
       "BldgType         0.00\n",
       "Condition2       0.00\n",
       "Condition1       0.00\n",
       "Neighborhood     0.00\n",
       "LandSlope        0.00\n",
       "LotConfig        0.00\n",
       "Utilities        0.00\n",
       "LandContour      0.00\n",
       "LotShape         0.00\n",
       "Street           0.00\n",
       "LotArea          0.00\n",
       "MSZoning         0.00\n",
       "MSSubClass       0.00\n",
       "BsmtFinSF1       0.00\n",
       "Heating          0.00\n",
       "BsmtFinSF2       0.00\n",
       "EnclosedPorch    0.00\n",
       "Fireplaces       0.00\n",
       "GarageCars       0.00\n",
       "GarageArea       0.00\n",
       "PavedDrive       0.00\n",
       "WoodDeckSF       0.00\n",
       "OpenPorchSF      0.00\n",
       "3SsnPorch        0.00\n",
       "dtype: float64"
      ]
     },
     "metadata": {},
     "execution_count": 11
    }
   ],
   "metadata": {}
  },
  {
   "cell_type": "code",
   "execution_count": 12,
   "source": [
    "house_price_child_df.info()"
   ],
   "outputs": [
    {
     "output_type": "stream",
     "name": "stdout",
     "text": [
      "<class 'pandas.core.frame.DataFrame'>\n",
      "Int64Index: 1453 entries, 0 to 1459\n",
      "Data columns (total 75 columns):\n",
      " #   Column         Non-Null Count  Dtype  \n",
      "---  ------         --------------  -----  \n",
      " 0   Id             1453 non-null   int64  \n",
      " 1   MSSubClass     1453 non-null   int64  \n",
      " 2   MSZoning       1453 non-null   object \n",
      " 3   LotArea        1453 non-null   int64  \n",
      " 4   Street         1453 non-null   object \n",
      " 5   LotShape       1453 non-null   object \n",
      " 6   LandContour    1453 non-null   object \n",
      " 7   Utilities      1453 non-null   object \n",
      " 8   LotConfig      1453 non-null   object \n",
      " 9   LandSlope      1453 non-null   object \n",
      " 10  Neighborhood   1453 non-null   object \n",
      " 11  Condition1     1453 non-null   object \n",
      " 12  Condition2     1453 non-null   object \n",
      " 13  BldgType       1453 non-null   object \n",
      " 14  HouseStyle     1453 non-null   object \n",
      " 15  OverallQual    1453 non-null   int64  \n",
      " 16  OverallCond    1453 non-null   int64  \n",
      " 17  YearBuilt      1453 non-null   int64  \n",
      " 18  YearRemodAdd   1453 non-null   int64  \n",
      " 19  RoofStyle      1453 non-null   object \n",
      " 20  RoofMatl       1453 non-null   object \n",
      " 21  Exterior1st    1453 non-null   object \n",
      " 22  Exterior2nd    1453 non-null   object \n",
      " 23  MasVnrType     1445 non-null   object \n",
      " 24  MasVnrArea     1445 non-null   float64\n",
      " 25  ExterQual      1453 non-null   object \n",
      " 26  ExterCond      1453 non-null   object \n",
      " 27  Foundation     1453 non-null   object \n",
      " 28  BsmtQual       1423 non-null   object \n",
      " 29  BsmtCond       1423 non-null   object \n",
      " 30  BsmtExposure   1422 non-null   object \n",
      " 31  BsmtFinType1   1423 non-null   object \n",
      " 32  BsmtFinSF1     1453 non-null   int64  \n",
      " 33  BsmtFinType2   1422 non-null   object \n",
      " 34  BsmtFinSF2     1453 non-null   int64  \n",
      " 35  BsmtUnfSF      1453 non-null   int64  \n",
      " 36  TotalBsmtSF    1453 non-null   int64  \n",
      " 37  Heating        1453 non-null   object \n",
      " 38  HeatingQC      1453 non-null   object \n",
      " 39  CentralAir     1453 non-null   object \n",
      " 40  Electrical     1452 non-null   object \n",
      " 41  1stFlrSF       1453 non-null   int64  \n",
      " 42  2ndFlrSF       1453 non-null   int64  \n",
      " 43  LowQualFinSF   1453 non-null   int64  \n",
      " 44  GrLivArea      1453 non-null   int64  \n",
      " 45  BsmtFullBath   1453 non-null   int64  \n",
      " 46  BsmtHalfBath   1453 non-null   int64  \n",
      " 47  FullBath       1453 non-null   int64  \n",
      " 48  HalfBath       1453 non-null   int64  \n",
      " 49  BedroomAbvGr   1453 non-null   int64  \n",
      " 50  KitchenAbvGr   1453 non-null   int64  \n",
      " 51  KitchenQual    1453 non-null   object \n",
      " 52  TotRmsAbvGrd   1453 non-null   int64  \n",
      " 53  Functional     1453 non-null   object \n",
      " 54  Fireplaces     1453 non-null   int64  \n",
      " 55  GarageType     1379 non-null   object \n",
      " 56  GarageYrBlt    1379 non-null   float64\n",
      " 57  GarageFinish   1379 non-null   object \n",
      " 58  GarageCars     1453 non-null   int64  \n",
      " 59  GarageArea     1453 non-null   int64  \n",
      " 60  GarageQual     1379 non-null   object \n",
      " 61  GarageCond     1379 non-null   object \n",
      " 62  PavedDrive     1453 non-null   object \n",
      " 63  WoodDeckSF     1453 non-null   int64  \n",
      " 64  OpenPorchSF    1453 non-null   int64  \n",
      " 65  EnclosedPorch  1453 non-null   int64  \n",
      " 66  3SsnPorch      1453 non-null   int64  \n",
      " 67  ScreenPorch    1453 non-null   int64  \n",
      " 68  PoolArea       1453 non-null   int64  \n",
      " 69  MiscVal        1453 non-null   int64  \n",
      " 70  MoSold         1453 non-null   int64  \n",
      " 71  YrSold         1453 non-null   int64  \n",
      " 72  SaleType       1453 non-null   object \n",
      " 73  SaleCondition  1453 non-null   object \n",
      " 74  SalePrice      1453 non-null   int64  \n",
      "dtypes: float64(2), int64(35), object(38)\n",
      "memory usage: 862.7+ KB\n"
     ]
    }
   ],
   "metadata": {}
  },
  {
   "cell_type": "markdown",
   "source": [
    " "
   ],
   "metadata": {}
  },
  {
   "cell_type": "markdown",
   "source": [
    "Note:\n",
    "\n",
    "`So far, we able to understand the data and deletd the top 6 Null values coloums which has more than 15 % null values`\n",
    "\n",
    "`Also we could see some coloumns having Year values which we need to convert somthing understandable for model`\n"
   ],
   "metadata": {}
  },
  {
   "cell_type": "code",
   "execution_count": 13,
   "source": [
    "#checking Yr and Year columns in dataset\n",
    "columns = list(house_price_child_df.columns)\n",
    "year_columns =[]\n",
    "for word in columns:\n",
    "    if \"Year\" in word or \"Yr\" in word:\n",
    "            year_columns.append(word)\n",
    "print(\"Below columns having Year\")\n",
    "year_columns"
   ],
   "outputs": [
    {
     "output_type": "stream",
     "name": "stdout",
     "text": [
      "Below columns having Year\n"
     ]
    },
    {
     "output_type": "execute_result",
     "data": {
      "text/plain": [
       "['YearBuilt', 'YearRemodAdd', 'GarageYrBlt', 'YrSold']"
      ]
     },
     "metadata": {},
     "execution_count": 13
    }
   ],
   "metadata": {}
  },
  {
   "cell_type": "code",
   "execution_count": 14,
   "source": [
    "#Need to work on the Years columns\n",
    "house_price_child_df[year_columns].sample(10)"
   ],
   "outputs": [
    {
     "output_type": "execute_result",
     "data": {
      "text/plain": [
       "      YearBuilt  YearRemodAdd  GarageYrBlt  YrSold\n",
       "868        1948          1950       1979.0    2006\n",
       "608        1934          1998       1934.0    2007\n",
       "817        2002          2002       2002.0    2008\n",
       "1252       1968          1968       1968.0    2009\n",
       "105        2003          2004       2003.0    2008\n",
       "231        1995          1996       1995.0    2009\n",
       "814        1918          1950       1955.0    2006\n",
       "1266       1910          1950       1960.0    2007\n",
       "334        1998          1998       1998.0    2008\n",
       "745        1976          1996       1994.0    2008"
      ],
      "text/html": [
       "<div>\n",
       "<style scoped>\n",
       "    .dataframe tbody tr th:only-of-type {\n",
       "        vertical-align: middle;\n",
       "    }\n",
       "\n",
       "    .dataframe tbody tr th {\n",
       "        vertical-align: top;\n",
       "    }\n",
       "\n",
       "    .dataframe thead th {\n",
       "        text-align: right;\n",
       "    }\n",
       "</style>\n",
       "<table border=\"1\" class=\"dataframe\">\n",
       "  <thead>\n",
       "    <tr style=\"text-align: right;\">\n",
       "      <th></th>\n",
       "      <th>YearBuilt</th>\n",
       "      <th>YearRemodAdd</th>\n",
       "      <th>GarageYrBlt</th>\n",
       "      <th>YrSold</th>\n",
       "    </tr>\n",
       "  </thead>\n",
       "  <tbody>\n",
       "    <tr>\n",
       "      <th>868</th>\n",
       "      <td>1948</td>\n",
       "      <td>1950</td>\n",
       "      <td>1979.0</td>\n",
       "      <td>2006</td>\n",
       "    </tr>\n",
       "    <tr>\n",
       "      <th>608</th>\n",
       "      <td>1934</td>\n",
       "      <td>1998</td>\n",
       "      <td>1934.0</td>\n",
       "      <td>2007</td>\n",
       "    </tr>\n",
       "    <tr>\n",
       "      <th>817</th>\n",
       "      <td>2002</td>\n",
       "      <td>2002</td>\n",
       "      <td>2002.0</td>\n",
       "      <td>2008</td>\n",
       "    </tr>\n",
       "    <tr>\n",
       "      <th>1252</th>\n",
       "      <td>1968</td>\n",
       "      <td>1968</td>\n",
       "      <td>1968.0</td>\n",
       "      <td>2009</td>\n",
       "    </tr>\n",
       "    <tr>\n",
       "      <th>105</th>\n",
       "      <td>2003</td>\n",
       "      <td>2004</td>\n",
       "      <td>2003.0</td>\n",
       "      <td>2008</td>\n",
       "    </tr>\n",
       "    <tr>\n",
       "      <th>231</th>\n",
       "      <td>1995</td>\n",
       "      <td>1996</td>\n",
       "      <td>1995.0</td>\n",
       "      <td>2009</td>\n",
       "    </tr>\n",
       "    <tr>\n",
       "      <th>814</th>\n",
       "      <td>1918</td>\n",
       "      <td>1950</td>\n",
       "      <td>1955.0</td>\n",
       "      <td>2006</td>\n",
       "    </tr>\n",
       "    <tr>\n",
       "      <th>1266</th>\n",
       "      <td>1910</td>\n",
       "      <td>1950</td>\n",
       "      <td>1960.0</td>\n",
       "      <td>2007</td>\n",
       "    </tr>\n",
       "    <tr>\n",
       "      <th>334</th>\n",
       "      <td>1998</td>\n",
       "      <td>1998</td>\n",
       "      <td>1998.0</td>\n",
       "      <td>2008</td>\n",
       "    </tr>\n",
       "    <tr>\n",
       "      <th>745</th>\n",
       "      <td>1976</td>\n",
       "      <td>1996</td>\n",
       "      <td>1994.0</td>\n",
       "      <td>2008</td>\n",
       "    </tr>\n",
       "  </tbody>\n",
       "</table>\n",
       "</div>"
      ]
     },
     "metadata": {},
     "execution_count": 14
    }
   ],
   "metadata": {}
  },
  {
   "cell_type": "markdown",
   "source": [
    "`we could see some of the coloumns having NaN values`"
   ],
   "metadata": {}
  },
  {
   "cell_type": "code",
   "execution_count": 15,
   "source": [
    "house_price_child_df[year_columns].max()"
   ],
   "outputs": [
    {
     "output_type": "execute_result",
     "data": {
      "text/plain": [
       "YearBuilt       2010.0\n",
       "YearRemodAdd    2010.0\n",
       "GarageYrBlt     2010.0\n",
       "YrSold          2010.0\n",
       "dtype: float64"
      ]
     },
     "metadata": {},
     "execution_count": 15
    }
   ],
   "metadata": {}
  },
  {
   "cell_type": "code",
   "execution_count": 16,
   "source": [
    "#Adding years old columns for each year columns\n",
    "house_price_child_df['YearBuilt_old'] = house_price_child_df.YearBuilt.max()-house_price_child_df.YearBuilt\n",
    "house_price_child_df['YearRemodAdd_Old'] = house_price_child_df.YearRemodAdd.max()-house_price_child_df.YearRemodAdd\n",
    "house_price_child_df['GarageYrBlt_Old'] = house_price_child_df.GarageYrBlt.max()-house_price_child_df.GarageYrBlt\n",
    "house_price_child_df['YrSold_Old'] = house_price_child_df.YrSold.max()-house_price_child_df.YrSold"
   ],
   "outputs": [],
   "metadata": {}
  },
  {
   "cell_type": "code",
   "execution_count": 17,
   "source": [
    "#Will drop the year columns now\n",
    "house_price_child_df = house_price_child_df.drop(['YearBuilt', 'YearRemodAdd', 'GarageYrBlt', 'YrSold'],axis=1)"
   ],
   "outputs": [],
   "metadata": {}
  },
  {
   "cell_type": "code",
   "execution_count": 18,
   "source": [
    "house_price_child_df.info()"
   ],
   "outputs": [
    {
     "output_type": "stream",
     "name": "stdout",
     "text": [
      "<class 'pandas.core.frame.DataFrame'>\n",
      "Int64Index: 1453 entries, 0 to 1459\n",
      "Data columns (total 75 columns):\n",
      " #   Column            Non-Null Count  Dtype  \n",
      "---  ------            --------------  -----  \n",
      " 0   Id                1453 non-null   int64  \n",
      " 1   MSSubClass        1453 non-null   int64  \n",
      " 2   MSZoning          1453 non-null   object \n",
      " 3   LotArea           1453 non-null   int64  \n",
      " 4   Street            1453 non-null   object \n",
      " 5   LotShape          1453 non-null   object \n",
      " 6   LandContour       1453 non-null   object \n",
      " 7   Utilities         1453 non-null   object \n",
      " 8   LotConfig         1453 non-null   object \n",
      " 9   LandSlope         1453 non-null   object \n",
      " 10  Neighborhood      1453 non-null   object \n",
      " 11  Condition1        1453 non-null   object \n",
      " 12  Condition2        1453 non-null   object \n",
      " 13  BldgType          1453 non-null   object \n",
      " 14  HouseStyle        1453 non-null   object \n",
      " 15  OverallQual       1453 non-null   int64  \n",
      " 16  OverallCond       1453 non-null   int64  \n",
      " 17  RoofStyle         1453 non-null   object \n",
      " 18  RoofMatl          1453 non-null   object \n",
      " 19  Exterior1st       1453 non-null   object \n",
      " 20  Exterior2nd       1453 non-null   object \n",
      " 21  MasVnrType        1445 non-null   object \n",
      " 22  MasVnrArea        1445 non-null   float64\n",
      " 23  ExterQual         1453 non-null   object \n",
      " 24  ExterCond         1453 non-null   object \n",
      " 25  Foundation        1453 non-null   object \n",
      " 26  BsmtQual          1423 non-null   object \n",
      " 27  BsmtCond          1423 non-null   object \n",
      " 28  BsmtExposure      1422 non-null   object \n",
      " 29  BsmtFinType1      1423 non-null   object \n",
      " 30  BsmtFinSF1        1453 non-null   int64  \n",
      " 31  BsmtFinType2      1422 non-null   object \n",
      " 32  BsmtFinSF2        1453 non-null   int64  \n",
      " 33  BsmtUnfSF         1453 non-null   int64  \n",
      " 34  TotalBsmtSF       1453 non-null   int64  \n",
      " 35  Heating           1453 non-null   object \n",
      " 36  HeatingQC         1453 non-null   object \n",
      " 37  CentralAir        1453 non-null   object \n",
      " 38  Electrical        1452 non-null   object \n",
      " 39  1stFlrSF          1453 non-null   int64  \n",
      " 40  2ndFlrSF          1453 non-null   int64  \n",
      " 41  LowQualFinSF      1453 non-null   int64  \n",
      " 42  GrLivArea         1453 non-null   int64  \n",
      " 43  BsmtFullBath      1453 non-null   int64  \n",
      " 44  BsmtHalfBath      1453 non-null   int64  \n",
      " 45  FullBath          1453 non-null   int64  \n",
      " 46  HalfBath          1453 non-null   int64  \n",
      " 47  BedroomAbvGr      1453 non-null   int64  \n",
      " 48  KitchenAbvGr      1453 non-null   int64  \n",
      " 49  KitchenQual       1453 non-null   object \n",
      " 50  TotRmsAbvGrd      1453 non-null   int64  \n",
      " 51  Functional        1453 non-null   object \n",
      " 52  Fireplaces        1453 non-null   int64  \n",
      " 53  GarageType        1379 non-null   object \n",
      " 54  GarageFinish      1379 non-null   object \n",
      " 55  GarageCars        1453 non-null   int64  \n",
      " 56  GarageArea        1453 non-null   int64  \n",
      " 57  GarageQual        1379 non-null   object \n",
      " 58  GarageCond        1379 non-null   object \n",
      " 59  PavedDrive        1453 non-null   object \n",
      " 60  WoodDeckSF        1453 non-null   int64  \n",
      " 61  OpenPorchSF       1453 non-null   int64  \n",
      " 62  EnclosedPorch     1453 non-null   int64  \n",
      " 63  3SsnPorch         1453 non-null   int64  \n",
      " 64  ScreenPorch       1453 non-null   int64  \n",
      " 65  PoolArea          1453 non-null   int64  \n",
      " 66  MiscVal           1453 non-null   int64  \n",
      " 67  MoSold            1453 non-null   int64  \n",
      " 68  SaleType          1453 non-null   object \n",
      " 69  SaleCondition     1453 non-null   object \n",
      " 70  SalePrice         1453 non-null   int64  \n",
      " 71  YearBuilt_old     1453 non-null   int64  \n",
      " 72  YearRemodAdd_Old  1453 non-null   int64  \n",
      " 73  GarageYrBlt_Old   1379 non-null   float64\n",
      " 74  YrSold_Old        1453 non-null   int64  \n",
      "dtypes: float64(2), int64(35), object(38)\n",
      "memory usage: 862.7+ KB\n"
     ]
    }
   ],
   "metadata": {}
  },
  {
   "cell_type": "code",
   "execution_count": 19,
   "source": [
    "#Verifying the new columns by indexing iloc\n",
    "house_price_child_df.iloc[:,71:].sample(10)"
   ],
   "outputs": [
    {
     "output_type": "execute_result",
     "data": {
      "text/plain": [
       "      YearBuilt_old  YearRemodAdd_Old  GarageYrBlt_Old  YrSold_Old\n",
       "815              12                12             12.0           0\n",
       "1160             32                32             32.0           0\n",
       "59               38                38             37.0           2\n",
       "682              14                13             14.0           2\n",
       "122              52                52             52.0           2\n",
       "104              79                60             59.0           3\n",
       "450              80                 5             78.0           4\n",
       "63               89                60             20.0           0\n",
       "1364              5                 5              5.0           4\n",
       "320               4                 4              4.0           4"
      ],
      "text/html": [
       "<div>\n",
       "<style scoped>\n",
       "    .dataframe tbody tr th:only-of-type {\n",
       "        vertical-align: middle;\n",
       "    }\n",
       "\n",
       "    .dataframe tbody tr th {\n",
       "        vertical-align: top;\n",
       "    }\n",
       "\n",
       "    .dataframe thead th {\n",
       "        text-align: right;\n",
       "    }\n",
       "</style>\n",
       "<table border=\"1\" class=\"dataframe\">\n",
       "  <thead>\n",
       "    <tr style=\"text-align: right;\">\n",
       "      <th></th>\n",
       "      <th>YearBuilt_old</th>\n",
       "      <th>YearRemodAdd_Old</th>\n",
       "      <th>GarageYrBlt_Old</th>\n",
       "      <th>YrSold_Old</th>\n",
       "    </tr>\n",
       "  </thead>\n",
       "  <tbody>\n",
       "    <tr>\n",
       "      <th>815</th>\n",
       "      <td>12</td>\n",
       "      <td>12</td>\n",
       "      <td>12.0</td>\n",
       "      <td>0</td>\n",
       "    </tr>\n",
       "    <tr>\n",
       "      <th>1160</th>\n",
       "      <td>32</td>\n",
       "      <td>32</td>\n",
       "      <td>32.0</td>\n",
       "      <td>0</td>\n",
       "    </tr>\n",
       "    <tr>\n",
       "      <th>59</th>\n",
       "      <td>38</td>\n",
       "      <td>38</td>\n",
       "      <td>37.0</td>\n",
       "      <td>2</td>\n",
       "    </tr>\n",
       "    <tr>\n",
       "      <th>682</th>\n",
       "      <td>14</td>\n",
       "      <td>13</td>\n",
       "      <td>14.0</td>\n",
       "      <td>2</td>\n",
       "    </tr>\n",
       "    <tr>\n",
       "      <th>122</th>\n",
       "      <td>52</td>\n",
       "      <td>52</td>\n",
       "      <td>52.0</td>\n",
       "      <td>2</td>\n",
       "    </tr>\n",
       "    <tr>\n",
       "      <th>104</th>\n",
       "      <td>79</td>\n",
       "      <td>60</td>\n",
       "      <td>59.0</td>\n",
       "      <td>3</td>\n",
       "    </tr>\n",
       "    <tr>\n",
       "      <th>450</th>\n",
       "      <td>80</td>\n",
       "      <td>5</td>\n",
       "      <td>78.0</td>\n",
       "      <td>4</td>\n",
       "    </tr>\n",
       "    <tr>\n",
       "      <th>63</th>\n",
       "      <td>89</td>\n",
       "      <td>60</td>\n",
       "      <td>20.0</td>\n",
       "      <td>0</td>\n",
       "    </tr>\n",
       "    <tr>\n",
       "      <th>1364</th>\n",
       "      <td>5</td>\n",
       "      <td>5</td>\n",
       "      <td>5.0</td>\n",
       "      <td>4</td>\n",
       "    </tr>\n",
       "    <tr>\n",
       "      <th>320</th>\n",
       "      <td>4</td>\n",
       "      <td>4</td>\n",
       "      <td>4.0</td>\n",
       "      <td>4</td>\n",
       "    </tr>\n",
       "  </tbody>\n",
       "</table>\n",
       "</div>"
      ]
     },
     "metadata": {},
     "execution_count": 19
    }
   ],
   "metadata": {}
  },
  {
   "cell_type": "code",
   "execution_count": 20,
   "source": [
    "#Lets identify the NaN values \n",
    "house_price_child_df.isna().sum().sort_values(ascending=False).head(20)"
   ],
   "outputs": [
    {
     "output_type": "execute_result",
     "data": {
      "text/plain": [
       "GarageFinish       74\n",
       "GarageCond         74\n",
       "GarageYrBlt_Old    74\n",
       "GarageType         74\n",
       "GarageQual         74\n",
       "BsmtFinType2       31\n",
       "BsmtExposure       31\n",
       "BsmtFinType1       30\n",
       "BsmtCond           30\n",
       "BsmtQual           30\n",
       "MasVnrArea          8\n",
       "MasVnrType          8\n",
       "Electrical          1\n",
       "RoofMatl            0\n",
       "Exterior1st         0\n",
       "Foundation          0\n",
       "Exterior2nd         0\n",
       "ExterQual           0\n",
       "ExterCond           0\n",
       "BsmtFinSF1          0\n",
       "dtype: int64"
      ]
     },
     "metadata": {},
     "execution_count": 20
    }
   ],
   "metadata": {}
  },
  {
   "cell_type": "code",
   "execution_count": 21,
   "source": [
    "# Will take first 12 values and impute them \n",
    "impute_cols = list(house_price_child_df.isna().sum().sort_values(ascending=False).head(13).index)"
   ],
   "outputs": [],
   "metadata": {}
  },
  {
   "cell_type": "code",
   "execution_count": 22,
   "source": [
    "#Understanding the impute columns\n",
    "house_price_child_df[impute_cols].info()"
   ],
   "outputs": [
    {
     "output_type": "stream",
     "name": "stdout",
     "text": [
      "<class 'pandas.core.frame.DataFrame'>\n",
      "Int64Index: 1453 entries, 0 to 1459\n",
      "Data columns (total 13 columns):\n",
      " #   Column           Non-Null Count  Dtype  \n",
      "---  ------           --------------  -----  \n",
      " 0   GarageFinish     1379 non-null   object \n",
      " 1   GarageCond       1379 non-null   object \n",
      " 2   GarageYrBlt_Old  1379 non-null   float64\n",
      " 3   GarageType       1379 non-null   object \n",
      " 4   GarageQual       1379 non-null   object \n",
      " 5   BsmtFinType2     1422 non-null   object \n",
      " 6   BsmtExposure     1422 non-null   object \n",
      " 7   BsmtFinType1     1423 non-null   object \n",
      " 8   BsmtCond         1423 non-null   object \n",
      " 9   BsmtQual         1423 non-null   object \n",
      " 10  MasVnrArea       1445 non-null   float64\n",
      " 11  MasVnrType       1445 non-null   object \n",
      " 12  Electrical       1452 non-null   object \n",
      "dtypes: float64(2), object(11)\n",
      "memory usage: 158.9+ KB\n"
     ]
    }
   ],
   "metadata": {}
  },
  {
   "cell_type": "code",
   "execution_count": 23,
   "source": [
    "house_price_child_df[impute_cols].sample(10)"
   ],
   "outputs": [
    {
     "output_type": "execute_result",
     "data": {
      "text/plain": [
       "     GarageFinish GarageCond  GarageYrBlt_Old GarageType GarageQual  \\\n",
       "537           Unf         TA             30.0     Detchd         TA   \n",
       "909           Fin         TA              5.0     Attchd         TA   \n",
       "1246          RFn         TA              5.0     Attchd         TA   \n",
       "248           RFn         TA              7.0     Attchd         TA   \n",
       "505           Unf         TA             58.0     Detchd         TA   \n",
       "1163          Unf         TA             41.0    CarPort         Fa   \n",
       "268           Fin         Ex             44.0     Detchd         Ex   \n",
       "777           Unf         TA             36.0     Attchd         TA   \n",
       "1241          RFn         TA              3.0     Attchd         TA   \n",
       "986           Unf         TA             60.0     Attchd         Fa   \n",
       "\n",
       "     BsmtFinType2 BsmtExposure BsmtFinType1 BsmtCond BsmtQual  MasVnrArea  \\\n",
       "537           Unf           No          BLQ       TA       TA         0.0   \n",
       "909           Unf           No          Unf       TA       Gd         0.0   \n",
       "1246          Unf           No          Unf       TA       Gd         0.0   \n",
       "248           Unf           No          Unf       TA       Gd       101.0   \n",
       "505           Unf           No          Unf       TA       TA       360.0   \n",
       "1163          Unf           Av          GLQ       TA       Gd         0.0   \n",
       "268           Rec           No          ALQ       TA       TA         0.0   \n",
       "777           Unf           No          ALQ       TA       TA         0.0   \n",
       "1241          Unf           Av          Unf       TA       Gd         0.0   \n",
       "986           Unf           No          Unf       Fa       TA         0.0   \n",
       "\n",
       "     MasVnrType Electrical  \n",
       "537        None      SBrkr  \n",
       "909        None      SBrkr  \n",
       "1246       None      SBrkr  \n",
       "248     BrkFace      SBrkr  \n",
       "505     BrkFace      SBrkr  \n",
       "1163       None      SBrkr  \n",
       "268        None      SBrkr  \n",
       "777        None      SBrkr  \n",
       "1241      Stone      SBrkr  \n",
       "986        None      SBrkr  "
      ],
      "text/html": [
       "<div>\n",
       "<style scoped>\n",
       "    .dataframe tbody tr th:only-of-type {\n",
       "        vertical-align: middle;\n",
       "    }\n",
       "\n",
       "    .dataframe tbody tr th {\n",
       "        vertical-align: top;\n",
       "    }\n",
       "\n",
       "    .dataframe thead th {\n",
       "        text-align: right;\n",
       "    }\n",
       "</style>\n",
       "<table border=\"1\" class=\"dataframe\">\n",
       "  <thead>\n",
       "    <tr style=\"text-align: right;\">\n",
       "      <th></th>\n",
       "      <th>GarageFinish</th>\n",
       "      <th>GarageCond</th>\n",
       "      <th>GarageYrBlt_Old</th>\n",
       "      <th>GarageType</th>\n",
       "      <th>GarageQual</th>\n",
       "      <th>BsmtFinType2</th>\n",
       "      <th>BsmtExposure</th>\n",
       "      <th>BsmtFinType1</th>\n",
       "      <th>BsmtCond</th>\n",
       "      <th>BsmtQual</th>\n",
       "      <th>MasVnrArea</th>\n",
       "      <th>MasVnrType</th>\n",
       "      <th>Electrical</th>\n",
       "    </tr>\n",
       "  </thead>\n",
       "  <tbody>\n",
       "    <tr>\n",
       "      <th>537</th>\n",
       "      <td>Unf</td>\n",
       "      <td>TA</td>\n",
       "      <td>30.0</td>\n",
       "      <td>Detchd</td>\n",
       "      <td>TA</td>\n",
       "      <td>Unf</td>\n",
       "      <td>No</td>\n",
       "      <td>BLQ</td>\n",
       "      <td>TA</td>\n",
       "      <td>TA</td>\n",
       "      <td>0.0</td>\n",
       "      <td>None</td>\n",
       "      <td>SBrkr</td>\n",
       "    </tr>\n",
       "    <tr>\n",
       "      <th>909</th>\n",
       "      <td>Fin</td>\n",
       "      <td>TA</td>\n",
       "      <td>5.0</td>\n",
       "      <td>Attchd</td>\n",
       "      <td>TA</td>\n",
       "      <td>Unf</td>\n",
       "      <td>No</td>\n",
       "      <td>Unf</td>\n",
       "      <td>TA</td>\n",
       "      <td>Gd</td>\n",
       "      <td>0.0</td>\n",
       "      <td>None</td>\n",
       "      <td>SBrkr</td>\n",
       "    </tr>\n",
       "    <tr>\n",
       "      <th>1246</th>\n",
       "      <td>RFn</td>\n",
       "      <td>TA</td>\n",
       "      <td>5.0</td>\n",
       "      <td>Attchd</td>\n",
       "      <td>TA</td>\n",
       "      <td>Unf</td>\n",
       "      <td>No</td>\n",
       "      <td>Unf</td>\n",
       "      <td>TA</td>\n",
       "      <td>Gd</td>\n",
       "      <td>0.0</td>\n",
       "      <td>None</td>\n",
       "      <td>SBrkr</td>\n",
       "    </tr>\n",
       "    <tr>\n",
       "      <th>248</th>\n",
       "      <td>RFn</td>\n",
       "      <td>TA</td>\n",
       "      <td>7.0</td>\n",
       "      <td>Attchd</td>\n",
       "      <td>TA</td>\n",
       "      <td>Unf</td>\n",
       "      <td>No</td>\n",
       "      <td>Unf</td>\n",
       "      <td>TA</td>\n",
       "      <td>Gd</td>\n",
       "      <td>101.0</td>\n",
       "      <td>BrkFace</td>\n",
       "      <td>SBrkr</td>\n",
       "    </tr>\n",
       "    <tr>\n",
       "      <th>505</th>\n",
       "      <td>Unf</td>\n",
       "      <td>TA</td>\n",
       "      <td>58.0</td>\n",
       "      <td>Detchd</td>\n",
       "      <td>TA</td>\n",
       "      <td>Unf</td>\n",
       "      <td>No</td>\n",
       "      <td>Unf</td>\n",
       "      <td>TA</td>\n",
       "      <td>TA</td>\n",
       "      <td>360.0</td>\n",
       "      <td>BrkFace</td>\n",
       "      <td>SBrkr</td>\n",
       "    </tr>\n",
       "    <tr>\n",
       "      <th>1163</th>\n",
       "      <td>Unf</td>\n",
       "      <td>TA</td>\n",
       "      <td>41.0</td>\n",
       "      <td>CarPort</td>\n",
       "      <td>Fa</td>\n",
       "      <td>Unf</td>\n",
       "      <td>Av</td>\n",
       "      <td>GLQ</td>\n",
       "      <td>TA</td>\n",
       "      <td>Gd</td>\n",
       "      <td>0.0</td>\n",
       "      <td>None</td>\n",
       "      <td>SBrkr</td>\n",
       "    </tr>\n",
       "    <tr>\n",
       "      <th>268</th>\n",
       "      <td>Fin</td>\n",
       "      <td>Ex</td>\n",
       "      <td>44.0</td>\n",
       "      <td>Detchd</td>\n",
       "      <td>Ex</td>\n",
       "      <td>Rec</td>\n",
       "      <td>No</td>\n",
       "      <td>ALQ</td>\n",
       "      <td>TA</td>\n",
       "      <td>TA</td>\n",
       "      <td>0.0</td>\n",
       "      <td>None</td>\n",
       "      <td>SBrkr</td>\n",
       "    </tr>\n",
       "    <tr>\n",
       "      <th>777</th>\n",
       "      <td>Unf</td>\n",
       "      <td>TA</td>\n",
       "      <td>36.0</td>\n",
       "      <td>Attchd</td>\n",
       "      <td>TA</td>\n",
       "      <td>Unf</td>\n",
       "      <td>No</td>\n",
       "      <td>ALQ</td>\n",
       "      <td>TA</td>\n",
       "      <td>TA</td>\n",
       "      <td>0.0</td>\n",
       "      <td>None</td>\n",
       "      <td>SBrkr</td>\n",
       "    </tr>\n",
       "    <tr>\n",
       "      <th>1241</th>\n",
       "      <td>RFn</td>\n",
       "      <td>TA</td>\n",
       "      <td>3.0</td>\n",
       "      <td>Attchd</td>\n",
       "      <td>TA</td>\n",
       "      <td>Unf</td>\n",
       "      <td>Av</td>\n",
       "      <td>Unf</td>\n",
       "      <td>TA</td>\n",
       "      <td>Gd</td>\n",
       "      <td>0.0</td>\n",
       "      <td>Stone</td>\n",
       "      <td>SBrkr</td>\n",
       "    </tr>\n",
       "    <tr>\n",
       "      <th>986</th>\n",
       "      <td>Unf</td>\n",
       "      <td>TA</td>\n",
       "      <td>60.0</td>\n",
       "      <td>Attchd</td>\n",
       "      <td>Fa</td>\n",
       "      <td>Unf</td>\n",
       "      <td>No</td>\n",
       "      <td>Unf</td>\n",
       "      <td>Fa</td>\n",
       "      <td>TA</td>\n",
       "      <td>0.0</td>\n",
       "      <td>None</td>\n",
       "      <td>SBrkr</td>\n",
       "    </tr>\n",
       "  </tbody>\n",
       "</table>\n",
       "</div>"
      ]
     },
     "metadata": {},
     "execution_count": 23
    }
   ],
   "metadata": {}
  },
  {
   "cell_type": "code",
   "execution_count": 24,
   "source": [
    "house_price_child_df[impute_cols].max()"
   ],
   "outputs": [
    {
     "output_type": "execute_result",
     "data": {
      "text/plain": [
       "GarageYrBlt_Old     110.0\n",
       "MasVnrArea         1600.0\n",
       "dtype: float64"
      ]
     },
     "metadata": {},
     "execution_count": 24
    }
   ],
   "metadata": {}
  },
  {
   "cell_type": "markdown",
   "source": [
    "`We could see this two numeric values and also if no garage is availbile which means GarageYrBlt_Old could be NaN`"
   ],
   "metadata": {}
  },
  {
   "cell_type": "code",
   "execution_count": 25,
   "source": [
    "# First We fill this to numeric values\n",
    "house_price_child_df.MasVnrArea.fillna(house_price_child_df.MasVnrArea.mean(),inplace=True)\n",
    "\n",
    "# We will fill 0 in place of GarageYrBlt_Old NaN values as they dont have GarageYrBlt_Old\n",
    "house_price_child_df.GarageYrBlt_Old.fillna(-1,inplace=True)"
   ],
   "outputs": [],
   "metadata": {}
  },
  {
   "cell_type": "code",
   "execution_count": 26,
   "source": [
    "house_price_child_df[impute_cols].sample(10)"
   ],
   "outputs": [
    {
     "output_type": "execute_result",
     "data": {
      "text/plain": [
       "     GarageFinish GarageCond  GarageYrBlt_Old GarageType GarageQual  \\\n",
       "1079          Unf         TA             14.0     Attchd         TA   \n",
       "965           Fin         TA              5.0     Attchd         TA   \n",
       "797           Unf         TA             57.0     Attchd         TA   \n",
       "367           RFn         TA             48.0    Basment         TA   \n",
       "1348          RFn         TA             12.0     Attchd         TA   \n",
       "943           Unf         TA             43.0     Attchd         TA   \n",
       "1422          Fin         TA              7.0     Attchd         TA   \n",
       "466           Unf         TA             40.0     Attchd         TA   \n",
       "531           Fin         Fa             90.0     Detchd         TA   \n",
       "1350          Unf         TA             41.0     Detchd         TA   \n",
       "\n",
       "     BsmtFinType2 BsmtExposure BsmtFinType1 BsmtCond BsmtQual  MasVnrArea  \\\n",
       "1079          Unf           No          GLQ       TA       Gd         0.0   \n",
       "965           Unf           No          Unf       TA       Gd         0.0   \n",
       "797           Unf           No          BLQ       TA       TA         0.0   \n",
       "367           Unf           Gd          GLQ       TA       Gd       305.0   \n",
       "1348          Unf           Gd          GLQ       TA       Gd         0.0   \n",
       "943           Unf           Av          Unf       TA       TA         0.0   \n",
       "1422          Unf           Av          GLQ       TA       Gd       170.0   \n",
       "466           Unf           Gd          GLQ       Gd       TA         0.0   \n",
       "531           Unf           Mn          Unf       Fa       Fa         0.0   \n",
       "1350          Unf           No          LwQ       TA       TA       368.0   \n",
       "\n",
       "     MasVnrType Electrical  \n",
       "1079       None      SBrkr  \n",
       "965        None      SBrkr  \n",
       "797        None      SBrkr  \n",
       "367     BrkFace      SBrkr  \n",
       "1348       None      SBrkr  \n",
       "943        None      SBrkr  \n",
       "1422    BrkFace      SBrkr  \n",
       "466        None      SBrkr  \n",
       "531        None      SBrkr  \n",
       "1350    BrkFace      SBrkr  "
      ],
      "text/html": [
       "<div>\n",
       "<style scoped>\n",
       "    .dataframe tbody tr th:only-of-type {\n",
       "        vertical-align: middle;\n",
       "    }\n",
       "\n",
       "    .dataframe tbody tr th {\n",
       "        vertical-align: top;\n",
       "    }\n",
       "\n",
       "    .dataframe thead th {\n",
       "        text-align: right;\n",
       "    }\n",
       "</style>\n",
       "<table border=\"1\" class=\"dataframe\">\n",
       "  <thead>\n",
       "    <tr style=\"text-align: right;\">\n",
       "      <th></th>\n",
       "      <th>GarageFinish</th>\n",
       "      <th>GarageCond</th>\n",
       "      <th>GarageYrBlt_Old</th>\n",
       "      <th>GarageType</th>\n",
       "      <th>GarageQual</th>\n",
       "      <th>BsmtFinType2</th>\n",
       "      <th>BsmtExposure</th>\n",
       "      <th>BsmtFinType1</th>\n",
       "      <th>BsmtCond</th>\n",
       "      <th>BsmtQual</th>\n",
       "      <th>MasVnrArea</th>\n",
       "      <th>MasVnrType</th>\n",
       "      <th>Electrical</th>\n",
       "    </tr>\n",
       "  </thead>\n",
       "  <tbody>\n",
       "    <tr>\n",
       "      <th>1079</th>\n",
       "      <td>Unf</td>\n",
       "      <td>TA</td>\n",
       "      <td>14.0</td>\n",
       "      <td>Attchd</td>\n",
       "      <td>TA</td>\n",
       "      <td>Unf</td>\n",
       "      <td>No</td>\n",
       "      <td>GLQ</td>\n",
       "      <td>TA</td>\n",
       "      <td>Gd</td>\n",
       "      <td>0.0</td>\n",
       "      <td>None</td>\n",
       "      <td>SBrkr</td>\n",
       "    </tr>\n",
       "    <tr>\n",
       "      <th>965</th>\n",
       "      <td>Fin</td>\n",
       "      <td>TA</td>\n",
       "      <td>5.0</td>\n",
       "      <td>Attchd</td>\n",
       "      <td>TA</td>\n",
       "      <td>Unf</td>\n",
       "      <td>No</td>\n",
       "      <td>Unf</td>\n",
       "      <td>TA</td>\n",
       "      <td>Gd</td>\n",
       "      <td>0.0</td>\n",
       "      <td>None</td>\n",
       "      <td>SBrkr</td>\n",
       "    </tr>\n",
       "    <tr>\n",
       "      <th>797</th>\n",
       "      <td>Unf</td>\n",
       "      <td>TA</td>\n",
       "      <td>57.0</td>\n",
       "      <td>Attchd</td>\n",
       "      <td>TA</td>\n",
       "      <td>Unf</td>\n",
       "      <td>No</td>\n",
       "      <td>BLQ</td>\n",
       "      <td>TA</td>\n",
       "      <td>TA</td>\n",
       "      <td>0.0</td>\n",
       "      <td>None</td>\n",
       "      <td>SBrkr</td>\n",
       "    </tr>\n",
       "    <tr>\n",
       "      <th>367</th>\n",
       "      <td>RFn</td>\n",
       "      <td>TA</td>\n",
       "      <td>48.0</td>\n",
       "      <td>Basment</td>\n",
       "      <td>TA</td>\n",
       "      <td>Unf</td>\n",
       "      <td>Gd</td>\n",
       "      <td>GLQ</td>\n",
       "      <td>TA</td>\n",
       "      <td>Gd</td>\n",
       "      <td>305.0</td>\n",
       "      <td>BrkFace</td>\n",
       "      <td>SBrkr</td>\n",
       "    </tr>\n",
       "    <tr>\n",
       "      <th>1348</th>\n",
       "      <td>RFn</td>\n",
       "      <td>TA</td>\n",
       "      <td>12.0</td>\n",
       "      <td>Attchd</td>\n",
       "      <td>TA</td>\n",
       "      <td>Unf</td>\n",
       "      <td>Gd</td>\n",
       "      <td>GLQ</td>\n",
       "      <td>TA</td>\n",
       "      <td>Gd</td>\n",
       "      <td>0.0</td>\n",
       "      <td>None</td>\n",
       "      <td>SBrkr</td>\n",
       "    </tr>\n",
       "    <tr>\n",
       "      <th>943</th>\n",
       "      <td>Unf</td>\n",
       "      <td>TA</td>\n",
       "      <td>43.0</td>\n",
       "      <td>Attchd</td>\n",
       "      <td>TA</td>\n",
       "      <td>Unf</td>\n",
       "      <td>Av</td>\n",
       "      <td>Unf</td>\n",
       "      <td>TA</td>\n",
       "      <td>TA</td>\n",
       "      <td>0.0</td>\n",
       "      <td>None</td>\n",
       "      <td>SBrkr</td>\n",
       "    </tr>\n",
       "    <tr>\n",
       "      <th>1422</th>\n",
       "      <td>Fin</td>\n",
       "      <td>TA</td>\n",
       "      <td>7.0</td>\n",
       "      <td>Attchd</td>\n",
       "      <td>TA</td>\n",
       "      <td>Unf</td>\n",
       "      <td>Av</td>\n",
       "      <td>GLQ</td>\n",
       "      <td>TA</td>\n",
       "      <td>Gd</td>\n",
       "      <td>170.0</td>\n",
       "      <td>BrkFace</td>\n",
       "      <td>SBrkr</td>\n",
       "    </tr>\n",
       "    <tr>\n",
       "      <th>466</th>\n",
       "      <td>Unf</td>\n",
       "      <td>TA</td>\n",
       "      <td>40.0</td>\n",
       "      <td>Attchd</td>\n",
       "      <td>TA</td>\n",
       "      <td>Unf</td>\n",
       "      <td>Gd</td>\n",
       "      <td>GLQ</td>\n",
       "      <td>Gd</td>\n",
       "      <td>TA</td>\n",
       "      <td>0.0</td>\n",
       "      <td>None</td>\n",
       "      <td>SBrkr</td>\n",
       "    </tr>\n",
       "    <tr>\n",
       "      <th>531</th>\n",
       "      <td>Fin</td>\n",
       "      <td>Fa</td>\n",
       "      <td>90.0</td>\n",
       "      <td>Detchd</td>\n",
       "      <td>TA</td>\n",
       "      <td>Unf</td>\n",
       "      <td>Mn</td>\n",
       "      <td>Unf</td>\n",
       "      <td>Fa</td>\n",
       "      <td>Fa</td>\n",
       "      <td>0.0</td>\n",
       "      <td>None</td>\n",
       "      <td>SBrkr</td>\n",
       "    </tr>\n",
       "    <tr>\n",
       "      <th>1350</th>\n",
       "      <td>Unf</td>\n",
       "      <td>TA</td>\n",
       "      <td>41.0</td>\n",
       "      <td>Detchd</td>\n",
       "      <td>TA</td>\n",
       "      <td>Unf</td>\n",
       "      <td>No</td>\n",
       "      <td>LwQ</td>\n",
       "      <td>TA</td>\n",
       "      <td>TA</td>\n",
       "      <td>368.0</td>\n",
       "      <td>BrkFace</td>\n",
       "      <td>SBrkr</td>\n",
       "    </tr>\n",
       "  </tbody>\n",
       "</table>\n",
       "</div>"
      ]
     },
     "metadata": {},
     "execution_count": 26
    }
   ],
   "metadata": {}
  },
  {
   "cell_type": "code",
   "execution_count": 27,
   "source": [
    "# Lets check the maximum count of each values\n",
    "impute_cols.remove('MasVnrArea')\n",
    "impute_cols.remove('GarageYrBlt_Old')\n",
    "for feature in impute_cols:\n",
    "    #print('Countin-', feature)\n",
    "    print( house_price_child_df[feature].value_counts())"
   ],
   "outputs": [
    {
     "output_type": "stream",
     "name": "stdout",
     "text": [
      "Unf    605\n",
      "RFn    422\n",
      "Fin    352\n",
      "Name: GarageFinish, dtype: int64\n",
      "TA    1326\n",
      "Fa      35\n",
      "Gd       9\n",
      "Po       7\n",
      "Ex       2\n",
      "Name: GarageCond, dtype: int64\n",
      "Attchd     870\n",
      "Detchd     387\n",
      "BuiltIn     88\n",
      "Basment     19\n",
      "CarPort      9\n",
      "2Types       6\n",
      "Name: GarageType, dtype: int64\n",
      "TA    1311\n",
      "Fa      48\n",
      "Gd      14\n",
      "Po       3\n",
      "Ex       3\n",
      "Name: GarageQual, dtype: int64\n",
      "Unf    1256\n",
      "Rec      54\n",
      "LwQ      46\n",
      "BLQ      33\n",
      "ALQ      19\n",
      "GLQ      14\n",
      "Name: BsmtFinType2, dtype: int64\n",
      "No    953\n",
      "Av    221\n",
      "Gd    134\n",
      "Mn    114\n",
      "Name: BsmtExposure, dtype: int64\n",
      "Unf    430\n",
      "GLQ    418\n",
      "ALQ    220\n",
      "BLQ    148\n",
      "Rec    133\n",
      "LwQ     74\n",
      "Name: BsmtFinType1, dtype: int64\n",
      "TA    1311\n",
      "Gd      65\n",
      "Fa      45\n",
      "Po       2\n",
      "Name: BsmtCond, dtype: int64\n",
      "TA    649\n",
      "Gd    618\n",
      "Ex    121\n",
      "Fa     35\n",
      "Name: BsmtQual, dtype: int64\n",
      "None       857\n",
      "BrkFace    445\n",
      "Stone      128\n",
      "BrkCmn      15\n",
      "Name: MasVnrType, dtype: int64\n",
      "SBrkr    1330\n",
      "FuseA      93\n",
      "FuseF      26\n",
      "FuseP       2\n",
      "Mix         1\n",
      "Name: Electrical, dtype: int64\n"
     ]
    }
   ],
   "metadata": {}
  },
  {
   "cell_type": "code",
   "execution_count": 28,
   "source": [
    "#Now will fill the NaN with max values\n",
    "house_price_child_df.MasVnrType.fillna('None',inplace=True)\n",
    "house_price_child_df.BsmtQual.fillna('TA',inplace=True)\n",
    "house_price_child_df.BsmtCond.fillna('TA',inplace=True)\n",
    "house_price_child_df.BsmtExposure.fillna('No',inplace=True)\n",
    "house_price_child_df.BsmtFinType1.fillna('Unf',inplace=True)\n",
    "house_price_child_df.BsmtFinType2.fillna('Unf',inplace=True)\n",
    "house_price_child_df.GarageType.fillna('Attchd',inplace=True)\n",
    "house_price_child_df.GarageFinish.fillna('Unf',inplace=True)\n",
    "house_price_child_df.GarageQual.fillna('TA',inplace=True)\n",
    "house_price_child_df.GarageCond.fillna('TA',inplace=True)\n",
    "house_price_child_df.Electrical.fillna('SBrkr',inplace=True)"
   ],
   "outputs": [],
   "metadata": {}
  },
  {
   "cell_type": "code",
   "execution_count": 29,
   "source": [
    "#verify the impute columns\n",
    "house_price_child_df.isna().sum().sort_values(ascending=False).head(20)\n"
   ],
   "outputs": [
    {
     "output_type": "execute_result",
     "data": {
      "text/plain": [
       "YrSold_Old      0\n",
       "RoofMatl        0\n",
       "Exterior2nd     0\n",
       "MasVnrType      0\n",
       "MasVnrArea      0\n",
       "ExterQual       0\n",
       "ExterCond       0\n",
       "Foundation      0\n",
       "BsmtQual        0\n",
       "BsmtCond        0\n",
       "BsmtExposure    0\n",
       "BsmtFinType1    0\n",
       "BsmtFinSF1      0\n",
       "BsmtFinType2    0\n",
       "BsmtFinSF2      0\n",
       "BsmtUnfSF       0\n",
       "TotalBsmtSF     0\n",
       "Exterior1st     0\n",
       "RoofStyle       0\n",
       "HeatingQC       0\n",
       "dtype: int64"
      ]
     },
     "metadata": {},
     "execution_count": 29
    }
   ],
   "metadata": {}
  },
  {
   "cell_type": "code",
   "execution_count": 30,
   "source": [
    "# Now will check higly correalted coloumns with sales price\n",
    "print(house_price_child_df.corr()['SalePrice'].sort_values())\n",
    "corr_drop_col = house_price_child_df.corr()['SalePrice'].sort_values().head(12).index"
   ],
   "outputs": [
    {
     "output_type": "stream",
     "name": "stdout",
     "text": [
      "YearBuilt_old      -0.520948\n",
      "YearRemodAdd_Old   -0.503700\n",
      "GarageYrBlt_Old    -0.389465\n",
      "EnclosedPorch      -0.127490\n",
      "KitchenAbvGr       -0.126036\n",
      "OverallCond        -0.082656\n",
      "MSSubClass         -0.080423\n",
      "LowQualFinSF       -0.026457\n",
      "Id                 -0.022125\n",
      "BsmtHalfBath       -0.018407\n",
      "MiscVal            -0.014335\n",
      "BsmtFinSF2         -0.013212\n",
      "YrSold_Old          0.028965\n",
      "3SsnPorch           0.044051\n",
      "MoSold              0.044076\n",
      "PoolArea            0.092364\n",
      "ScreenPorch         0.110258\n",
      "BedroomAbvGr        0.166185\n",
      "BsmtUnfSF           0.208260\n",
      "BsmtFullBath        0.223358\n",
      "LotArea             0.262849\n",
      "HalfBath            0.280972\n",
      "OpenPorchSF         0.314731\n",
      "2ndFlrSF            0.319326\n",
      "WoodDeckSF          0.322741\n",
      "BsmtFinSF1          0.382883\n",
      "Fireplaces          0.465101\n",
      "MasVnrArea          0.474051\n",
      "TotRmsAbvGrd        0.533437\n",
      "FullBath            0.563754\n",
      "1stFlrSF            0.605226\n",
      "TotalBsmtSF         0.609823\n",
      "GarageArea          0.619693\n",
      "GarageCars          0.637090\n",
      "GrLivArea           0.707695\n",
      "OverallQual         0.789839\n",
      "SalePrice           1.000000\n",
      "Name: SalePrice, dtype: float64\n"
     ]
    }
   ],
   "metadata": {}
  },
  {
   "cell_type": "code",
   "execution_count": 31,
   "source": [
    "#dropping less corelated coloumns\n",
    "house_price_child_df = house_price_child_df.drop(corr_drop_col,axis=1)"
   ],
   "outputs": [],
   "metadata": {}
  },
  {
   "cell_type": "code",
   "execution_count": 32,
   "source": [
    "house_price_child_df.shape"
   ],
   "outputs": [
    {
     "output_type": "execute_result",
     "data": {
      "text/plain": [
       "(1453, 63)"
      ]
     },
     "metadata": {},
     "execution_count": 32
    }
   ],
   "metadata": {}
  },
  {
   "cell_type": "markdown",
   "source": [
    "### `So far we have reduced some features as much as we can, now lets do some plots and check the EDA`"
   ],
   "metadata": {}
  },
  {
   "cell_type": "code",
   "execution_count": 33,
   "source": [
    "# Lets extract higly corrrealted columns and plot them\n",
    "corr_colms = house_price_child_df.corr()['SalePrice'].sort_values().tail(6).index\n"
   ],
   "outputs": [],
   "metadata": {}
  },
  {
   "cell_type": "code",
   "execution_count": 34,
   "source": [
    "sns.pairplot(house_price_child_df[corr_colms],kind='reg')"
   ],
   "outputs": [
    {
     "output_type": "execute_result",
     "data": {
      "text/plain": [
       "<seaborn.axisgrid.PairGrid at 0x7f9083c22f50>"
      ]
     },
     "metadata": {},
     "execution_count": 34
    },
    {
     "output_type": "display_data",
     "data": {
      "text/plain": [
       "<Figure size 1080x1080 with 42 Axes>"
      ],
      "image/png": "[encoded data removed]"
     },
     "metadata": {
      "needs_background": "light"
     }
    }
   ],
   "metadata": {}
  },
  {
   "cell_type": "markdown",
   "source": [
    "### `now lets take a look at outliers and will remove them`"
   ],
   "metadata": {}
  },
  {
   "cell_type": "code",
   "execution_count": 35,
   "source": [
    "fig_size = plt.rcParams[\"figure.figsize\"]\n",
    "fig_size[0] =16.0\n",
    "fig_size[1] = 4.0\n",
    "\n",
    "x =house_price_child_df['SalePrice']\n",
    "plt.hist(x, normed=True, bins=400)\n",
    "plt.ylabel('SalePrice');"
   ],
   "outputs": [
    {
     "output_type": "display_data",
     "data": {
      "text/plain": [
       "<Figure size 1152x288 with 1 Axes>"
      ],
      "image/png": "[encoded data removed]"
     },
     "metadata": {
      "needs_background": "light"
     }
    }
   ],
   "metadata": {}
  },
  {
   "cell_type": "markdown",
   "source": [
    "`we can see there is a huge varience in outlier so let remove them `"
   ],
   "metadata": {}
  },
  {
   "cell_type": "code",
   "execution_count": 36,
   "source": [
    "def reject_outliers(SalePrice):\n",
    "    filtered= [e for e in (house_price_child_df['SalePrice']) if (e < 450000)]\n",
    "    return filtered\n",
    "\n",
    "fig_size = plt.rcParams[\"figure.figsize\"]\n",
    "fig_size[0] =16.0\n",
    "fig_size[1] = 4.0\n",
    "\n",
    "filtered = reject_outliers('SalePrice')\n",
    "plt.hist(filtered, 50)\n",
    "fig_size[0]=16.0\n",
    "fig_size[1]=8.0\n",
    "plt.show()\n",
    "\n",
    "df_no_outliers = pd.DataFrame(filtered)\n",
    "df_no_outliers.shape"
   ],
   "outputs": [
    {
     "output_type": "display_data",
     "data": {
      "text/plain": [
       "<Figure size 1152x288 with 1 Axes>"
      ],
      "image/png": "[encoded data removed]"
     },
     "metadata": {
      "needs_background": "light"
     }
    },
    {
     "output_type": "execute_result",
     "data": {
      "text/plain": [
       "(1439, 1)"
      ]
     },
     "metadata": {},
     "execution_count": 36
    }
   ],
   "metadata": {}
  },
  {
   "cell_type": "markdown",
   "source": [
    "`so we can remove 14 sampls from data set`"
   ],
   "metadata": {}
  },
  {
   "cell_type": "code",
   "execution_count": 37,
   "source": [
    "house_price_child_df = house_price_child_df[house_price_child_df['SalePrice']<450000]"
   ],
   "outputs": [],
   "metadata": {}
  },
  {
   "cell_type": "code",
   "execution_count": 38,
   "source": [
    "# now lets work on the catogarical variables \n",
    "print(list(house_price_child_df.dtypes[house_price_child_df.dtypes=='object'].index))\n",
    "cat_var = (list(house_price_child_df.dtypes[house_price_child_df.dtypes=='object'].index))"
   ],
   "outputs": [
    {
     "output_type": "stream",
     "name": "stdout",
     "text": [
      "['MSZoning', 'Street', 'LotShape', 'LandContour', 'Utilities', 'LotConfig', 'LandSlope', 'Neighborhood', 'Condition1', 'Condition2', 'BldgType', 'HouseStyle', 'RoofStyle', 'RoofMatl', 'Exterior1st', 'Exterior2nd', 'MasVnrType', 'ExterQual', 'ExterCond', 'Foundation', 'BsmtQual', 'BsmtCond', 'BsmtExposure', 'BsmtFinType1', 'BsmtFinType2', 'Heating', 'HeatingQC', 'CentralAir', 'Electrical', 'KitchenQual', 'Functional', 'GarageType', 'GarageFinish', 'GarageQual', 'GarageCond', 'PavedDrive', 'SaleType', 'SaleCondition']\n"
     ]
    }
   ],
   "metadata": {}
  },
  {
   "cell_type": "markdown",
   "source": [
    "`We have 38 catogarical variables will add dummey variables to them`"
   ],
   "metadata": {}
  },
  {
   "cell_type": "code",
   "execution_count": 39,
   "source": [
    "# Lets work on this columns and try maping with numeric values with dummies\n",
    "house_price_child_df[cat_var].head()"
   ],
   "outputs": [
    {
     "output_type": "execute_result",
     "data": {
      "text/plain": [
       "  MSZoning Street LotShape LandContour Utilities LotConfig LandSlope  \\\n",
       "0       RL   Pave      Reg         Lvl    AllPub    Inside       Gtl   \n",
       "1       RL   Pave      Reg         Lvl    AllPub       FR2       Gtl   \n",
       "2       RL   Pave      IR1         Lvl    AllPub    Inside       Gtl   \n",
       "3       RL   Pave      IR1         Lvl    AllPub    Corner       Gtl   \n",
       "4       RL   Pave      IR1         Lvl    AllPub       FR2       Gtl   \n",
       "\n",
       "  Neighborhood Condition1 Condition2  ... Electrical KitchenQual Functional  \\\n",
       "0      CollgCr       Norm       Norm  ...      SBrkr          Gd        Typ   \n",
       "1      Veenker      Feedr       Norm  ...      SBrkr          TA        Typ   \n",
       "2      CollgCr       Norm       Norm  ...      SBrkr          Gd        Typ   \n",
       "3      Crawfor       Norm       Norm  ...      SBrkr          Gd        Typ   \n",
       "4      NoRidge       Norm       Norm  ...      SBrkr          Gd        Typ   \n",
       "\n",
       "  GarageType GarageFinish GarageQual GarageCond PavedDrive SaleType  \\\n",
       "0     Attchd          RFn         TA         TA          Y       WD   \n",
       "1     Attchd          RFn         TA         TA          Y       WD   \n",
       "2     Attchd          RFn         TA         TA          Y       WD   \n",
       "3     Detchd          Unf         TA         TA          Y       WD   \n",
       "4     Attchd          RFn         TA         TA          Y       WD   \n",
       "\n",
       "  SaleCondition  \n",
       "0        Normal  \n",
       "1        Normal  \n",
       "2        Normal  \n",
       "3       Abnorml  \n",
       "4        Normal  \n",
       "\n",
       "[5 rows x 38 columns]"
      ],
      "text/html": [
       "<div>\n",
       "<style scoped>\n",
       "    .dataframe tbody tr th:only-of-type {\n",
       "        vertical-align: middle;\n",
       "    }\n",
       "\n",
       "    .dataframe tbody tr th {\n",
       "        vertical-align: top;\n",
       "    }\n",
       "\n",
       "    .dataframe thead th {\n",
       "        text-align: right;\n",
       "    }\n",
       "</style>\n",
       "<table border=\"1\" class=\"dataframe\">\n",
       "  <thead>\n",
       "    <tr style=\"text-align: right;\">\n",
       "      <th></th>\n",
       "      <th>MSZoning</th>\n",
       "      <th>Street</th>\n",
       "      <th>LotShape</th>\n",
       "      <th>LandContour</th>\n",
       "      <th>Utilities</th>\n",
       "      <th>LotConfig</th>\n",
       "      <th>LandSlope</th>\n",
       "      <th>Neighborhood</th>\n",
       "      <th>Condition1</th>\n",
       "      <th>Condition2</th>\n",
       "      <th>...</th>\n",
       "      <th>Electrical</th>\n",
       "      <th>KitchenQual</th>\n",
       "      <th>Functional</th>\n",
       "      <th>GarageType</th>\n",
       "      <th>GarageFinish</th>\n",
       "      <th>GarageQual</th>\n",
       "      <th>GarageCond</th>\n",
       "      <th>PavedDrive</th>\n",
       "      <th>SaleType</th>\n",
       "      <th>SaleCondition</th>\n",
       "    </tr>\n",
       "  </thead>\n",
       "  <tbody>\n",
       "    <tr>\n",
       "      <th>0</th>\n",
       "      <td>RL</td>\n",
       "      <td>Pave</td>\n",
       "      <td>Reg</td>\n",
       "      <td>Lvl</td>\n",
       "      <td>AllPub</td>\n",
       "      <td>Inside</td>\n",
       "      <td>Gtl</td>\n",
       "      <td>CollgCr</td>\n",
       "      <td>Norm</td>\n",
       "      <td>Norm</td>\n",
       "      <td>...</td>\n",
       "      <td>SBrkr</td>\n",
       "      <td>Gd</td>\n",
       "      <td>Typ</td>\n",
       "      <td>Attchd</td>\n",
       "      <td>RFn</td>\n",
       "      <td>TA</td>\n",
       "      <td>TA</td>\n",
       "      <td>Y</td>\n",
       "      <td>WD</td>\n",
       "      <td>Normal</td>\n",
       "    </tr>\n",
       "    <tr>\n",
       "      <th>1</th>\n",
       "      <td>RL</td>\n",
       "      <td>Pave</td>\n",
       "      <td>Reg</td>\n",
       "      <td>Lvl</td>\n",
       "      <td>AllPub</td>\n",
       "      <td>FR2</td>\n",
       "      <td>Gtl</td>\n",
       "      <td>Veenker</td>\n",
       "      <td>Feedr</td>\n",
       "      <td>Norm</td>\n",
       "      <td>...</td>\n",
       "      <td>SBrkr</td>\n",
       "      <td>TA</td>\n",
       "      <td>Typ</td>\n",
       "      <td>Attchd</td>\n",
       "      <td>RFn</td>\n",
       "      <td>TA</td>\n",
       "      <td>TA</td>\n",
       "      <td>Y</td>\n",
       "      <td>WD</td>\n",
       "      <td>Normal</td>\n",
       "    </tr>\n",
       "    <tr>\n",
       "      <th>2</th>\n",
       "      <td>RL</td>\n",
       "      <td>Pave</td>\n",
       "      <td>IR1</td>\n",
       "      <td>Lvl</td>\n",
       "      <td>AllPub</td>\n",
       "      <td>Inside</td>\n",
       "      <td>Gtl</td>\n",
       "      <td>CollgCr</td>\n",
       "      <td>Norm</td>\n",
       "      <td>Norm</td>\n",
       "      <td>...</td>\n",
       "      <td>SBrkr</td>\n",
       "      <td>Gd</td>\n",
       "      <td>Typ</td>\n",
       "      <td>Attchd</td>\n",
       "      <td>RFn</td>\n",
       "      <td>TA</td>\n",
       "      <td>TA</td>\n",
       "      <td>Y</td>\n",
       "      <td>WD</td>\n",
       "      <td>Normal</td>\n",
       "    </tr>\n",
       "    <tr>\n",
       "      <th>3</th>\n",
       "      <td>RL</td>\n",
       "      <td>Pave</td>\n",
       "      <td>IR1</td>\n",
       "      <td>Lvl</td>\n",
       "      <td>AllPub</td>\n",
       "      <td>Corner</td>\n",
       "      <td>Gtl</td>\n",
       "      <td>Crawfor</td>\n",
       "      <td>Norm</td>\n",
       "      <td>Norm</td>\n",
       "      <td>...</td>\n",
       "      <td>SBrkr</td>\n",
       "      <td>Gd</td>\n",
       "      <td>Typ</td>\n",
       "      <td>Detchd</td>\n",
       "      <td>Unf</td>\n",
       "      <td>TA</td>\n",
       "      <td>TA</td>\n",
       "      <td>Y</td>\n",
       "      <td>WD</td>\n",
       "      <td>Abnorml</td>\n",
       "    </tr>\n",
       "    <tr>\n",
       "      <th>4</th>\n",
       "      <td>RL</td>\n",
       "      <td>Pave</td>\n",
       "      <td>IR1</td>\n",
       "      <td>Lvl</td>\n",
       "      <td>AllPub</td>\n",
       "      <td>FR2</td>\n",
       "      <td>Gtl</td>\n",
       "      <td>NoRidge</td>\n",
       "      <td>Norm</td>\n",
       "      <td>Norm</td>\n",
       "      <td>...</td>\n",
       "      <td>SBrkr</td>\n",
       "      <td>Gd</td>\n",
       "      <td>Typ</td>\n",
       "      <td>Attchd</td>\n",
       "      <td>RFn</td>\n",
       "      <td>TA</td>\n",
       "      <td>TA</td>\n",
       "      <td>Y</td>\n",
       "      <td>WD</td>\n",
       "      <td>Normal</td>\n",
       "    </tr>\n",
       "  </tbody>\n",
       "</table>\n",
       "<p>5 rows × 38 columns</p>\n",
       "</div>"
      ]
     },
     "metadata": {},
     "execution_count": 39
    }
   ],
   "metadata": {}
  },
  {
   "cell_type": "code",
   "execution_count": 40,
   "source": [
    "#encoder = OneHotEncoder(drop='first')\n",
    "#encoder.fit(house_price_child_df[cat_var])\n",
    "#house_price_child_df = encoder.fit_transform(house_price_child_df[cat_var])\n",
    "dummy_var = pd.get_dummies(house_price_child_df, columns=cat_var,drop_first=True)\n",
    "house_price_child_df = pd.concat([house_price_child_df,dummy_var],axis=1)"
   ],
   "outputs": [],
   "metadata": {}
  },
  {
   "cell_type": "code",
   "execution_count": 41,
   "source": [
    "house_price_child_df.shape"
   ],
   "outputs": [
    {
     "output_type": "execute_result",
     "data": {
      "text/plain": [
       "(1439, 283)"
      ]
     },
     "metadata": {},
     "execution_count": 41
    }
   ],
   "metadata": {}
  },
  {
   "cell_type": "code",
   "execution_count": 42,
   "source": [
    "# droping atogorical variable presents\n",
    "house_price_child_df = house_price_child_df.drop(cat_var, axis=1)"
   ],
   "outputs": [],
   "metadata": {}
  },
  {
   "cell_type": "code",
   "execution_count": 43,
   "source": [
    "house_price_child_df.shape"
   ],
   "outputs": [
    {
     "output_type": "execute_result",
     "data": {
      "text/plain": [
       "(1439, 245)"
      ]
     },
     "metadata": {},
     "execution_count": 43
    }
   ],
   "metadata": {}
  },
  {
   "cell_type": "code",
   "execution_count": 44,
   "source": [
    "#lest verify the distribution\n",
    "plt.figure(figsize=(16,6))\n",
    "sns.distplot(house_price_child_df.SalePrice)\n",
    "plt.show()"
   ],
   "outputs": [
    {
     "output_type": "display_data",
     "data": {
      "text/plain": [
       "<Figure size 1152x432 with 1 Axes>"
      ],
      "image/png": "[encoded data removed]"
     },
     "metadata": {
      "needs_background": "light"
     }
    }
   ],
   "metadata": {}
  },
  {
   "cell_type": "markdown",
   "source": [
    "`From above plot we could see the modle normaly distributed`"
   ],
   "metadata": {}
  },
  {
   "cell_type": "markdown",
   "source": [
    "## `Lets check the Regression R2 Score`"
   ],
   "metadata": {}
  },
  {
   "cell_type": "code",
   "execution_count": 45,
   "source": [
    "X = house_price_child_df.loc[:, house_price_child_df.columns !='SalePrice' ]\n",
    "y = house_price_child_df.loc[:, house_price_child_df.columns == 'SalePrice']\n",
    "y = y.iloc[:, 1:2] #Somewhere Sales price got addedd twice so removing :)\n",
    "\n",
    "# split\n",
    "X_train, X_test, y_train, y_test = train_test_split(X,y, test_size = 0.3, random_state = 100)"
   ],
   "outputs": [],
   "metadata": {}
  },
  {
   "cell_type": "code",
   "execution_count": 46,
   "source": [
    "len(X_train.columns)"
   ],
   "outputs": [
    {
     "output_type": "execute_result",
     "data": {
      "text/plain": [
       "243"
      ]
     },
     "metadata": {},
     "execution_count": 46
    }
   ],
   "metadata": {}
  },
  {
   "cell_type": "code",
   "execution_count": 47,
   "source": [
    "lm  = LinearRegression()\n",
    "lm.fit(X_train,y_train)\n",
    "rfe = RFE(lm,70)\n",
    "rfe.fit(X_train,y_train)"
   ],
   "outputs": [
    {
     "output_type": "execute_result",
     "data": {
      "text/plain": [
       "RFE(estimator=LinearRegression(copy_X=True, fit_intercept=True, n_jobs=None,\n",
       "                               normalize=False),\n",
       "    n_features_to_select=70, step=1, verbose=0)"
      ]
     },
     "metadata": {},
     "execution_count": 47
    }
   ],
   "metadata": {}
  },
  {
   "cell_type": "code",
   "execution_count": 48,
   "source": [
    "rfe_scores = pd.DataFrame(list(zip(X_train.columns,rfe.support_,rfe.ranking_)))\n",
    "rfe_scores.columns = ['Column_Names','Status','Rank']"
   ],
   "outputs": [],
   "metadata": {}
  },
  {
   "cell_type": "code",
   "execution_count": 49,
   "source": [
    "#We having 245 features so let remove some of them via RFE\n",
    "rfe_sel_columns = list(rfe_scores[rfe_scores.Status==True].Column_Names)"
   ],
   "outputs": [],
   "metadata": {}
  },
  {
   "cell_type": "code",
   "execution_count": 50,
   "source": [
    "rfe_sel_columns"
   ],
   "outputs": [
    {
     "output_type": "execute_result",
     "data": {
      "text/plain": [
       "['OverallQual',\n",
       " 'BsmtFullBath',\n",
       " 'FullBath',\n",
       " 'BedroomAbvGr',\n",
       " 'TotRmsAbvGrd',\n",
       " 'Fireplaces',\n",
       " 'GarageCars',\n",
       " 'YrSold_Old',\n",
       " 'OverallQual',\n",
       " 'BsmtFullBath',\n",
       " 'FullBath',\n",
       " 'BedroomAbvGr',\n",
       " 'TotRmsAbvGrd',\n",
       " 'Fireplaces',\n",
       " 'GarageCars',\n",
       " 'YrSold_Old',\n",
       " 'MSZoning_FV',\n",
       " 'MSZoning_RH',\n",
       " 'MSZoning_RL',\n",
       " 'MSZoning_RM',\n",
       " 'LandSlope_Sev',\n",
       " 'Neighborhood_Crawfor',\n",
       " 'Neighborhood_NoRidge',\n",
       " 'Neighborhood_NridgHt',\n",
       " 'Neighborhood_StoneBr',\n",
       " 'Condition2_Feedr',\n",
       " 'Condition2_Norm',\n",
       " 'Condition2_PosA',\n",
       " 'Condition2_PosN',\n",
       " 'Condition2_RRAn',\n",
       " 'Condition2_RRNn',\n",
       " 'BldgType_Duplex',\n",
       " 'BldgType_Twnhs',\n",
       " 'BldgType_TwnhsE',\n",
       " 'RoofStyle_Mansard',\n",
       " 'RoofMatl_CompShg',\n",
       " 'RoofMatl_Metal',\n",
       " 'RoofMatl_Roll',\n",
       " 'RoofMatl_Tar&Grv',\n",
       " 'RoofMatl_WdShake',\n",
       " 'RoofMatl_WdShngl',\n",
       " 'Exterior1st_CBlock',\n",
       " 'Exterior1st_WdShing',\n",
       " 'Exterior2nd_CBlock',\n",
       " 'BsmtQual_Fa',\n",
       " 'BsmtQual_Gd',\n",
       " 'BsmtQual_TA',\n",
       " 'BsmtCond_Po',\n",
       " 'BsmtExposure_Gd',\n",
       " 'Heating_OthW',\n",
       " 'HeatingQC_Po',\n",
       " 'Electrical_FuseP',\n",
       " 'Electrical_Mix',\n",
       " 'KitchenQual_Fa',\n",
       " 'KitchenQual_Gd',\n",
       " 'KitchenQual_TA',\n",
       " 'Functional_Maj2',\n",
       " 'Functional_Sev',\n",
       " 'GarageQual_Fa',\n",
       " 'GarageQual_Gd',\n",
       " 'GarageQual_Po',\n",
       " 'GarageQual_TA',\n",
       " 'GarageCond_Fa',\n",
       " 'GarageCond_Gd',\n",
       " 'GarageCond_Po',\n",
       " 'GarageCond_TA',\n",
       " 'SaleType_CWD',\n",
       " 'SaleType_Con',\n",
       " 'SaleType_New',\n",
       " 'SaleCondition_Partial']"
      ]
     },
     "metadata": {},
     "execution_count": 50
    }
   ],
   "metadata": {}
  },
  {
   "cell_type": "code",
   "execution_count": 51,
   "source": [
    "#Selceting optimal Values selected by RFE\n",
    "X_train = X_train[rfe_sel_columns]\n",
    "X_test = X_test[rfe_sel_columns]"
   ],
   "outputs": [],
   "metadata": {}
  },
  {
   "cell_type": "markdown",
   "source": [
    "### `Lets try with Lasso`"
   ],
   "metadata": {}
  },
  {
   "cell_type": "code",
   "execution_count": 52,
   "source": [
    "lm = Lasso(alpha=0.001)\n",
    "lm.fit(X_train,y_train)\n",
    "\n",
    "y_train_pred = lm.predict(X_train)\n",
    "print(r2_score(y_true=y_train,y_pred=y_train_pred))\n",
    "\n",
    "y_test_pred  = lm.predict(X_test)\n",
    "print(r2_score(y_true=y_test,y_pred=y_test_pred))"
   ],
   "outputs": [
    {
     "output_type": "stream",
     "name": "stdout",
     "text": [
      "0.8599648907885062\n",
      "0.8200860935137463\n"
     ]
    }
   ],
   "metadata": {}
  },
  {
   "cell_type": "code",
   "execution_count": 53,
   "source": [
    "model_parameter = list(lm.coef_)\n",
    "model_parameter.insert(0,lm.intercept_)\n",
    "model_parameter = [x for x in model_parameter]\n",
    "col = X_train.columns\n",
    "col.insert(0,'Constant')\n",
    "list(zip(col,model_parameter))"
   ],
   "outputs": [
    {
     "output_type": "execute_result",
     "data": {
      "text/plain": [
       "[('OverallQual', array([-264467.6432593])),\n",
       " ('OverallQual', 22249.397052586668),\n",
       " ('BsmtFullBath', 1.8424991495924902e-10),\n",
       " ('BsmtFullBath', 12675.817503822105),\n",
       " ('FullBath', 6.582830223032241e-09),\n",
       " ('FullBath', 13027.41167177253),\n",
       " ('BedroomAbvGr', 5.808261733302073e-10),\n",
       " ('BedroomAbvGr', 3591.5201892042164),\n",
       " ('TotRmsAbvGrd', 3.3304722291959066e-10),\n",
       " ('TotRmsAbvGrd', 4255.929077556764),\n",
       " ('Fireplaces', 0.0),\n",
       " ('Fireplaces', 5795.752767705213),\n",
       " ('GarageCars', 8.207489973464258e-10),\n",
       " ('GarageCars', 6007.9853869597155),\n",
       " ('YrSold_Old', 3.611188712493278e-11),\n",
       " ('YrSold_Old', -456.3098624160743),\n",
       " ('OverallQual', -5.5799330530093545e-14),\n",
       " ('OverallQual', -8309.550535554175),\n",
       " ('BsmtFullBath', -7.213562088942419e-13),\n",
       " ('BsmtFullBath', 3107.246678086742),\n",
       " ('FullBath', 1.2527078325154297e-09),\n",
       " ('FullBath', -2201.148617682578),\n",
       " ('BedroomAbvGr', -0.0),\n",
       " ('BedroomAbvGr', -4129.623867347903),\n",
       " ('TotRmsAbvGrd', -3.8186198696701416e-10),\n",
       " ('TotRmsAbvGrd', 3228.224696483856),\n",
       " ('Fireplaces', 6.455884331011271e-12),\n",
       " ('Fireplaces', 2664.8372386131837),\n",
       " ('GarageCars', 3.1011776301148506e-13),\n",
       " ('GarageCars', 6475.100485233274),\n",
       " ('YrSold_Old', 6.912102915034936e-11),\n",
       " ('YrSold_Old', 82.64782975396353),\n",
       " ('MSZoning_FV', 1.2098554101820977e-13),\n",
       " ('MSZoning_RH', 42101.50501138448),\n",
       " ('MSZoning_RL', 29329.32638062561),\n",
       " ('MSZoning_RM', 31077.602098773506),\n",
       " ('LandSlope_Sev', 21624.00294363709),\n",
       " ('Neighborhood_Crawfor', 21834.36733435984),\n",
       " ('Neighborhood_NoRidge', 30967.85671371219),\n",
       " ('Neighborhood_NridgHt', 53509.929750421354),\n",
       " ('Neighborhood_StoneBr', 34817.917843080984),\n",
       " ('Condition2_Feedr', 37980.95660459528),\n",
       " ('Condition2_Norm', 29481.425538017313),\n",
       " ('Condition2_PosA', 32158.02878407821),\n",
       " ('Condition2_PosN', 97554.85172841167),\n",
       " ('Condition2_RRAn', -76634.405848154),\n",
       " ('Condition2_RRNn', 43829.84350446834),\n",
       " ('BldgType_Duplex', 36466.42438274029),\n",
       " ('BldgType_Twnhs', -28441.962856252845),\n",
       " ('BldgType_TwnhsE', -27516.994954850703),\n",
       " ('RoofStyle_Mansard', -22080.6806285058),\n",
       " ('RoofMatl_CompShg', 33291.14931705874),\n",
       " ('RoofMatl_Metal', 268139.67188354215),\n",
       " ('RoofMatl_Roll', 236091.36009218308),\n",
       " ('RoofMatl_Tar&Grv', 274246.19178152457),\n",
       " ('RoofMatl_WdShake', 266860.50582462753),\n",
       " ('RoofMatl_WdShngl', 295101.85992439993),\n",
       " ('Exterior1st_CBlock', 384361.9999480495),\n",
       " ('Exterior1st_WdShing', 1718.8234339254718),\n",
       " ('Exterior2nd_CBlock', -21426.66717555036),\n",
       " ('BsmtQual_Fa', 0.0),\n",
       " ('BsmtQual_Gd', -42329.102122296186),\n",
       " ('BsmtQual_TA', -23283.86566066501),\n",
       " ('BsmtCond_Po', -31265.290025581704),\n",
       " ('BsmtExposure_Gd', 37999.71122983094),\n",
       " ('Heating_OthW', 29416.93475803037),\n",
       " ('HeatingQC_Po', -39446.564820100975),\n",
       " ('Electrical_FuseP', -25017.01796080223),\n",
       " ('Electrical_Mix', 45188.41661127916),\n",
       " ('KitchenQual_Fa', 2403.851116048628),\n",
       " ('KitchenQual_Gd', -41735.08544278648),\n",
       " ('KitchenQual_TA', -25371.042887266354),\n",
       " ('Functional_Maj2', -35275.05351873055),\n",
       " ('Functional_Sev', -25906.47615435694),\n",
       " ('GarageQual_Fa', -46829.77886931862),\n",
       " ('GarageQual_Gd', -13427.700759297984),\n",
       " ('GarageQual_Po', -456.89058712097625),\n",
       " ('GarageQual_TA', -29889.233389855784),\n",
       " ('GarageCond_Fa', -8552.502900179164),\n",
       " ('GarageCond_Gd', -20366.444471908777),\n",
       " ('GarageCond_Po', -30446.119926076633),\n",
       " ('GarageCond_TA', -33175.07521401491),\n",
       " ('SaleType_CWD', -11058.431746231658),\n",
       " ('SaleType_Con', 23812.151788815754),\n",
       " ('SaleType_New', 44582.402132365314),\n",
       " ('SaleCondition_Partial', 63602.91435686782)]"
      ]
     },
     "metadata": {},
     "execution_count": 53
    }
   ],
   "metadata": {}
  },
  {
   "cell_type": "markdown",
   "source": [
    "`lets try to improve our model with the optimal value of alpha using GridSearchCV`"
   ],
   "metadata": {}
  },
  {
   "cell_type": "code",
   "execution_count": 54,
   "source": [
    "# grid search CV\n",
    "\n",
    "# set up cross validation scheme\n",
    "folds = KFold(n_splits=10,shuffle=True,random_state=42)\n",
    "\n",
    "# specify range of hyperparameters\n",
    "hyper_param = {'alpha':[0.001, 0.01, 0.1,1.0, 5.0, 10.0]}\n",
    "\n",
    "\n",
    "# grid search\n",
    "# lasso model\n",
    "model = Lasso()\n",
    "\n",
    "model_cv = GridSearchCV(estimator = model,\n",
    "                        param_grid=hyper_param,\n",
    "                        scoring='r2',\n",
    "                        cv=folds,\n",
    "                        verbose=1,\n",
    "                        return_train_score=True\n",
    "                       )\n",
    "\n",
    "model_cv.fit(X_train,y_train)"
   ],
   "outputs": [
    {
     "output_type": "stream",
     "name": "stdout",
     "text": [
      "Fitting 10 folds for each of 6 candidates, totalling 60 fits\n"
     ]
    },
    {
     "output_type": "stream",
     "name": "stderr",
     "text": [
      "[Parallel(n_jobs=1)]: Using backend SequentialBackend with 1 concurrent workers.\n",
      "[Parallel(n_jobs=1)]: Done  60 out of  60 | elapsed:    3.6s finished\n"
     ]
    },
    {
     "output_type": "execute_result",
     "data": {
      "text/plain": [
       "GridSearchCV(cv=KFold(n_splits=10, random_state=42, shuffle=True),\n",
       "             error_score=nan,\n",
       "             estimator=Lasso(alpha=1.0, copy_X=True, fit_intercept=True,\n",
       "                             max_iter=1000, normalize=False, positive=False,\n",
       "                             precompute=False, random_state=None,\n",
       "                             selection='cyclic', tol=0.0001, warm_start=False),\n",
       "             iid='deprecated', n_jobs=None,\n",
       "             param_grid={'alpha': [0.001, 0.01, 0.1, 1.0, 5.0, 10.0]},\n",
       "             pre_dispatch='2*n_jobs', refit=True, return_train_score=True,\n",
       "             scoring='r2', verbose=1)"
      ]
     },
     "metadata": {},
     "execution_count": 54
    }
   ],
   "metadata": {}
  },
  {
   "cell_type": "code",
   "execution_count": 55,
   "source": [
    "cv_result_l = pd.DataFrame(model_cv.cv_results_)\n",
    "cv_result_l['param_alpha'] = cv_result_l['param_alpha'].astype('float32')\n",
    "cv_result_l.head()"
   ],
   "outputs": [
    {
     "output_type": "execute_result",
     "data": {
      "text/plain": [
       "   mean_fit_time  std_fit_time  mean_score_time  std_score_time  param_alpha  \\\n",
       "0       0.064408      0.009939         0.001809        0.000453        0.001   \n",
       "1       0.057002      0.002418         0.001788        0.000262        0.010   \n",
       "2       0.056234      0.002558         0.001669        0.000109        0.100   \n",
       "3       0.058023      0.003909         0.001781        0.000283        1.000   \n",
       "4       0.056717      0.001444         0.002090        0.000527        5.000   \n",
       "\n",
       "             params  split0_test_score  split1_test_score  split2_test_score  \\\n",
       "0  {'alpha': 0.001}           0.854276           0.808223           0.809527   \n",
       "1   {'alpha': 0.01}           0.854276           0.808230           0.809532   \n",
       "2    {'alpha': 0.1}           0.854282           0.808301           0.809590   \n",
       "3    {'alpha': 1.0}           0.854323           0.809007           0.810163   \n",
       "4    {'alpha': 5.0}           0.854491           0.812098           0.812628   \n",
       "\n",
       "   split3_test_score  ...  split2_train_score  split3_train_score  \\\n",
       "0           0.706039  ...            0.862561            0.861830   \n",
       "1           0.706084  ...            0.862561            0.861830   \n",
       "2           0.706542  ...            0.862561            0.861830   \n",
       "3           0.711062  ...            0.862540            0.861812   \n",
       "4           0.730063  ...            0.862073            0.861407   \n",
       "\n",
       "   split4_train_score  split5_train_score  split6_train_score  \\\n",
       "0            0.852659            0.859041            0.862963   \n",
       "1            0.852659            0.859041            0.862963   \n",
       "2            0.852659            0.859041            0.862963   \n",
       "3            0.852642            0.859031            0.862948   \n",
       "4            0.852263            0.858859            0.862642   \n",
       "\n",
       "   split7_train_score  split8_train_score  split9_train_score  \\\n",
       "0            0.861557            0.864671            0.867282   \n",
       "1            0.861557            0.864671            0.867282   \n",
       "2            0.861557            0.864671            0.867281   \n",
       "3            0.861538            0.864654            0.867261   \n",
       "4            0.861104            0.864260            0.866862   \n",
       "\n",
       "   mean_train_score  std_train_score  \n",
       "0          0.861240         0.003719  \n",
       "1          0.861240         0.003719  \n",
       "2          0.861239         0.003719  \n",
       "3          0.861222         0.003718  \n",
       "4          0.860835         0.003708  \n",
       "\n",
       "[5 rows x 31 columns]"
      ],
      "text/html": [
       "<div>\n",
       "<style scoped>\n",
       "    .dataframe tbody tr th:only-of-type {\n",
       "        vertical-align: middle;\n",
       "    }\n",
       "\n",
       "    .dataframe tbody tr th {\n",
       "        vertical-align: top;\n",
       "    }\n",
       "\n",
       "    .dataframe thead th {\n",
       "        text-align: right;\n",
       "    }\n",
       "</style>\n",
       "<table border=\"1\" class=\"dataframe\">\n",
       "  <thead>\n",
       "    <tr style=\"text-align: right;\">\n",
       "      <th></th>\n",
       "      <th>mean_fit_time</th>\n",
       "      <th>std_fit_time</th>\n",
       "      <th>mean_score_time</th>\n",
       "      <th>std_score_time</th>\n",
       "      <th>param_alpha</th>\n",
       "      <th>params</th>\n",
       "      <th>split0_test_score</th>\n",
       "      <th>split1_test_score</th>\n",
       "      <th>split2_test_score</th>\n",
       "      <th>split3_test_score</th>\n",
       "      <th>...</th>\n",
       "      <th>split2_train_score</th>\n",
       "      <th>split3_train_score</th>\n",
       "      <th>split4_train_score</th>\n",
       "      <th>split5_train_score</th>\n",
       "      <th>split6_train_score</th>\n",
       "      <th>split7_train_score</th>\n",
       "      <th>split8_train_score</th>\n",
       "      <th>split9_train_score</th>\n",
       "      <th>mean_train_score</th>\n",
       "      <th>std_train_score</th>\n",
       "    </tr>\n",
       "  </thead>\n",
       "  <tbody>\n",
       "    <tr>\n",
       "      <th>0</th>\n",
       "      <td>0.064408</td>\n",
       "      <td>0.009939</td>\n",
       "      <td>0.001809</td>\n",
       "      <td>0.000453</td>\n",
       "      <td>0.001</td>\n",
       "      <td>{'alpha': 0.001}</td>\n",
       "      <td>0.854276</td>\n",
       "      <td>0.808223</td>\n",
       "      <td>0.809527</td>\n",
       "      <td>0.706039</td>\n",
       "      <td>...</td>\n",
       "      <td>0.862561</td>\n",
       "      <td>0.861830</td>\n",
       "      <td>0.852659</td>\n",
       "      <td>0.859041</td>\n",
       "      <td>0.862963</td>\n",
       "      <td>0.861557</td>\n",
       "      <td>0.864671</td>\n",
       "      <td>0.867282</td>\n",
       "      <td>0.861240</td>\n",
       "      <td>0.003719</td>\n",
       "    </tr>\n",
       "    <tr>\n",
       "      <th>1</th>\n",
       "      <td>0.057002</td>\n",
       "      <td>0.002418</td>\n",
       "      <td>0.001788</td>\n",
       "      <td>0.000262</td>\n",
       "      <td>0.010</td>\n",
       "      <td>{'alpha': 0.01}</td>\n",
       "      <td>0.854276</td>\n",
       "      <td>0.808230</td>\n",
       "      <td>0.809532</td>\n",
       "      <td>0.706084</td>\n",
       "      <td>...</td>\n",
       "      <td>0.862561</td>\n",
       "      <td>0.861830</td>\n",
       "      <td>0.852659</td>\n",
       "      <td>0.859041</td>\n",
       "      <td>0.862963</td>\n",
       "      <td>0.861557</td>\n",
       "      <td>0.864671</td>\n",
       "      <td>0.867282</td>\n",
       "      <td>0.861240</td>\n",
       "      <td>0.003719</td>\n",
       "    </tr>\n",
       "    <tr>\n",
       "      <th>2</th>\n",
       "      <td>0.056234</td>\n",
       "      <td>0.002558</td>\n",
       "      <td>0.001669</td>\n",
       "      <td>0.000109</td>\n",
       "      <td>0.100</td>\n",
       "      <td>{'alpha': 0.1}</td>\n",
       "      <td>0.854282</td>\n",
       "      <td>0.808301</td>\n",
       "      <td>0.809590</td>\n",
       "      <td>0.706542</td>\n",
       "      <td>...</td>\n",
       "      <td>0.862561</td>\n",
       "      <td>0.861830</td>\n",
       "      <td>0.852659</td>\n",
       "      <td>0.859041</td>\n",
       "      <td>0.862963</td>\n",
       "      <td>0.861557</td>\n",
       "      <td>0.864671</td>\n",
       "      <td>0.867281</td>\n",
       "      <td>0.861239</td>\n",
       "      <td>0.003719</td>\n",
       "    </tr>\n",
       "    <tr>\n",
       "      <th>3</th>\n",
       "      <td>0.058023</td>\n",
       "      <td>0.003909</td>\n",
       "      <td>0.001781</td>\n",
       "      <td>0.000283</td>\n",
       "      <td>1.000</td>\n",
       "      <td>{'alpha': 1.0}</td>\n",
       "      <td>0.854323</td>\n",
       "      <td>0.809007</td>\n",
       "      <td>0.810163</td>\n",
       "      <td>0.711062</td>\n",
       "      <td>...</td>\n",
       "      <td>0.862540</td>\n",
       "      <td>0.861812</td>\n",
       "      <td>0.852642</td>\n",
       "      <td>0.859031</td>\n",
       "      <td>0.862948</td>\n",
       "      <td>0.861538</td>\n",
       "      <td>0.864654</td>\n",
       "      <td>0.867261</td>\n",
       "      <td>0.861222</td>\n",
       "      <td>0.003718</td>\n",
       "    </tr>\n",
       "    <tr>\n",
       "      <th>4</th>\n",
       "      <td>0.056717</td>\n",
       "      <td>0.001444</td>\n",
       "      <td>0.002090</td>\n",
       "      <td>0.000527</td>\n",
       "      <td>5.000</td>\n",
       "      <td>{'alpha': 5.0}</td>\n",
       "      <td>0.854491</td>\n",
       "      <td>0.812098</td>\n",
       "      <td>0.812628</td>\n",
       "      <td>0.730063</td>\n",
       "      <td>...</td>\n",
       "      <td>0.862073</td>\n",
       "      <td>0.861407</td>\n",
       "      <td>0.852263</td>\n",
       "      <td>0.858859</td>\n",
       "      <td>0.862642</td>\n",
       "      <td>0.861104</td>\n",
       "      <td>0.864260</td>\n",
       "      <td>0.866862</td>\n",
       "      <td>0.860835</td>\n",
       "      <td>0.003708</td>\n",
       "    </tr>\n",
       "  </tbody>\n",
       "</table>\n",
       "<p>5 rows × 31 columns</p>\n",
       "</div>"
      ]
     },
     "metadata": {},
     "execution_count": 55
    }
   ],
   "metadata": {}
  },
  {
   "cell_type": "code",
   "execution_count": 56,
   "source": [
    "# ploting the \n",
    "plt.figure(figsize=(16,8))\n",
    "plt.plot(cv_result_l['param_alpha'],cv_result_l['mean_train_score'])\n",
    "plt.plot(cv_result_l['param_alpha'],cv_result_l['mean_test_score'])\n",
    "plt.xscale('log')\n",
    "plt.ylabel('R2 Score')\n",
    "plt.xlabel('Alpha')\n",
    "plt.show()"
   ],
   "outputs": [
    {
     "output_type": "display_data",
     "data": {
      "text/plain": [
       "<Figure size 1152x576 with 1 Axes>"
      ],
      "image/png": "[encoded data removed]"
     },
     "metadata": {
      "needs_background": "light"
     }
    }
   ],
   "metadata": {}
  },
  {
   "cell_type": "code",
   "execution_count": 57,
   "source": [
    "\n",
    "# Checking the best parameter(Alpha value)\n",
    "model_cv.best_params_"
   ],
   "outputs": [
    {
     "output_type": "execute_result",
     "data": {
      "text/plain": [
       "{'alpha': 10.0}"
      ]
     },
     "metadata": {},
     "execution_count": 57
    }
   ],
   "metadata": {}
  },
  {
   "cell_type": "code",
   "execution_count": 73,
   "source": [
    "# Verifying with the best Alpah Value\n",
    "lasso = Lasso(alpha = 10.0)\n",
    "lasso.fit(X_train,y_train)\n",
    "\n",
    "y_train_pred = lasso.predict(X_train)\n",
    "y_test_pred = lasso.predict(X_test)\n",
    "\n",
    "print(r2_score(y_true=y_train,y_pred=y_train_pred))\n",
    "print(r2_score(y_true=y_test,y_pred=y_test_pred))"
   ],
   "outputs": [
    {
     "output_type": "stream",
     "name": "stdout",
     "text": [
      "0.8582886298530916\n",
      "0.8417578129243345\n"
     ]
    }
   ],
   "metadata": {}
  },
  {
   "cell_type": "code",
   "execution_count": 74,
   "source": [
    "# Identifying the Top Feature\n",
    "model_param = list(lasso.coef_)\n",
    "model_param.insert(0,lasso.intercept_)\n",
    "cols = X_train.columns\n",
    "cols.insert(0,'const')\n",
    "lasso_coef = pd.DataFrame(list(zip(cols,model_param)))\n",
    "lasso_coef.columns = ['Featuere','Coef']"
   ],
   "outputs": [],
   "metadata": {}
  },
  {
   "cell_type": "code",
   "execution_count": 75,
   "source": [
    "lasso_coef.sort_values(by='Coef',ascending=False).head(10)"
   ],
   "outputs": [
    {
     "output_type": "execute_result",
     "data": {
      "text/plain": [
       "                 Featuere     Coef\n",
       "57     Exterior1st_CBlock   308163\n",
       "56       RoofMatl_WdShngl   227347\n",
       "52         RoofMatl_Metal   203574\n",
       "54       RoofMatl_Tar&Grv   196566\n",
       "55       RoofMatl_WdShake   196486\n",
       "53          RoofMatl_Roll   161754\n",
       "44        Condition2_PosN  61494.7\n",
       "39   Neighborhood_NridgHt  52541.1\n",
       "85  SaleCondition_Partial  48771.3\n",
       "84           SaleType_New  39450.2"
      ],
      "text/html": [
       "<div>\n",
       "<style scoped>\n",
       "    .dataframe tbody tr th:only-of-type {\n",
       "        vertical-align: middle;\n",
       "    }\n",
       "\n",
       "    .dataframe tbody tr th {\n",
       "        vertical-align: top;\n",
       "    }\n",
       "\n",
       "    .dataframe thead th {\n",
       "        text-align: right;\n",
       "    }\n",
       "</style>\n",
       "<table border=\"1\" class=\"dataframe\">\n",
       "  <thead>\n",
       "    <tr style=\"text-align: right;\">\n",
       "      <th></th>\n",
       "      <th>Featuere</th>\n",
       "      <th>Coef</th>\n",
       "    </tr>\n",
       "  </thead>\n",
       "  <tbody>\n",
       "    <tr>\n",
       "      <th>57</th>\n",
       "      <td>Exterior1st_CBlock</td>\n",
       "      <td>308163</td>\n",
       "    </tr>\n",
       "    <tr>\n",
       "      <th>56</th>\n",
       "      <td>RoofMatl_WdShngl</td>\n",
       "      <td>227347</td>\n",
       "    </tr>\n",
       "    <tr>\n",
       "      <th>52</th>\n",
       "      <td>RoofMatl_Metal</td>\n",
       "      <td>203574</td>\n",
       "    </tr>\n",
       "    <tr>\n",
       "      <th>54</th>\n",
       "      <td>RoofMatl_Tar&amp;Grv</td>\n",
       "      <td>196566</td>\n",
       "    </tr>\n",
       "    <tr>\n",
       "      <th>55</th>\n",
       "      <td>RoofMatl_WdShake</td>\n",
       "      <td>196486</td>\n",
       "    </tr>\n",
       "    <tr>\n",
       "      <th>53</th>\n",
       "      <td>RoofMatl_Roll</td>\n",
       "      <td>161754</td>\n",
       "    </tr>\n",
       "    <tr>\n",
       "      <th>44</th>\n",
       "      <td>Condition2_PosN</td>\n",
       "      <td>61494.7</td>\n",
       "    </tr>\n",
       "    <tr>\n",
       "      <th>39</th>\n",
       "      <td>Neighborhood_NridgHt</td>\n",
       "      <td>52541.1</td>\n",
       "    </tr>\n",
       "    <tr>\n",
       "      <th>85</th>\n",
       "      <td>SaleCondition_Partial</td>\n",
       "      <td>48771.3</td>\n",
       "    </tr>\n",
       "    <tr>\n",
       "      <th>84</th>\n",
       "      <td>SaleType_New</td>\n",
       "      <td>39450.2</td>\n",
       "    </tr>\n",
       "  </tbody>\n",
       "</table>\n",
       "</div>"
      ]
     },
     "metadata": {},
     "execution_count": 75
    }
   ],
   "metadata": {}
  },
  {
   "cell_type": "markdown",
   "source": [
    "## `Now lets use the ridge regression`"
   ],
   "metadata": {}
  },
  {
   "cell_type": "code",
   "execution_count": 61,
   "source": [
    "ridge = Ridge(alpha=0.001)\n",
    "ridge.fit(X_train,y_train)\n",
    "\n",
    "y_train_pred = ridge.predict(X_train)\n",
    "print(r2_score(y_train,y_train_pred))\n",
    "y_test_pred = ridge.predict(X_test)\n",
    "print(r2_score(y_test,y_test_pred))"
   ],
   "outputs": [
    {
     "output_type": "stream",
     "name": "stdout",
     "text": [
      "0.8599641468517061\n",
      "0.821364971056366\n"
     ]
    }
   ],
   "metadata": {}
  },
  {
   "cell_type": "markdown",
   "source": [
    "`Above Alpha value is not optimal,Now  lets try to improve our model with the optimal value of alpha using GridSearchCV`"
   ],
   "metadata": {}
  },
  {
   "cell_type": "code",
   "execution_count": 62,
   "source": [
    "folds  = KFold(n_splits=10,shuffle=True,random_state=42)\n",
    "\n",
    "hyper_param = {'alpha':[0.001,0.01,0.1,0.2,0.5,0.9,1.0, 5.0, 10.0]}\n",
    "\n",
    "model = Ridge()\n",
    "\n",
    "model_cv = GridSearchCV(estimator=model,\n",
    "                        param_grid=hyper_param,\n",
    "                        scoring='r2',\n",
    "                        cv=folds,\n",
    "                        verbose=1,\n",
    "                        return_train_score=True)\n",
    "\n",
    "model_cv.fit(X_train,y_train)"
   ],
   "outputs": [
    {
     "output_type": "stream",
     "name": "stdout",
     "text": [
      "Fitting 10 folds for each of 9 candidates, totalling 90 fits\n"
     ]
    },
    {
     "output_type": "stream",
     "name": "stderr",
     "text": [
      "[Parallel(n_jobs=1)]: Using backend SequentialBackend with 1 concurrent workers.\n",
      "[Parallel(n_jobs=1)]: Done  90 out of  90 | elapsed:    0.8s finished\n"
     ]
    },
    {
     "output_type": "execute_result",
     "data": {
      "text/plain": [
       "GridSearchCV(cv=KFold(n_splits=10, random_state=42, shuffle=True),\n",
       "             error_score=nan,\n",
       "             estimator=Ridge(alpha=1.0, copy_X=True, fit_intercept=True,\n",
       "                             max_iter=None, normalize=False, random_state=None,\n",
       "                             solver='auto', tol=0.001),\n",
       "             iid='deprecated', n_jobs=None,\n",
       "             param_grid={'alpha': [0.001, 0.01, 0.1, 0.2, 0.5, 0.9, 1.0, 5.0,\n",
       "                                   10.0]},\n",
       "             pre_dispatch='2*n_jobs', refit=True, return_train_score=True,\n",
       "             scoring='r2', verbose=1)"
      ]
     },
     "metadata": {},
     "execution_count": 62
    }
   ],
   "metadata": {}
  },
  {
   "cell_type": "code",
   "execution_count": 63,
   "source": [
    "cv_result_r = pd.DataFrame(model_cv.cv_results_)\n",
    "cv_result_r['param_alpha'] = cv_result_r['param_alpha'].astype('float32')\n",
    "cv_result_r.head()"
   ],
   "outputs": [
    {
     "output_type": "execute_result",
     "data": {
      "text/plain": [
       "   mean_fit_time  std_fit_time  mean_score_time  std_score_time  param_alpha  \\\n",
       "0       0.005703      0.001675         0.002354        0.000747        0.001   \n",
       "1       0.005769      0.002403         0.001890        0.000794        0.010   \n",
       "2       0.005412      0.002838         0.001750        0.000364        0.100   \n",
       "3       0.003842      0.000344         0.001523        0.000235        0.200   \n",
       "4       0.004165      0.000683         0.001575        0.000230        0.500   \n",
       "\n",
       "             params  split0_test_score  split1_test_score  split2_test_score  \\\n",
       "0  {'alpha': 0.001}           0.854290           0.808328           0.809556   \n",
       "1   {'alpha': 0.01}           0.854406           0.809241           0.809818   \n",
       "2    {'alpha': 0.1}           0.854969           0.816043           0.811879   \n",
       "3    {'alpha': 0.2}           0.855305           0.821154           0.813657   \n",
       "4    {'alpha': 0.5}           0.855954           0.830190           0.817395   \n",
       "\n",
       "   split3_test_score  ...  split2_train_score  split3_train_score  \\\n",
       "0           0.707713  ...            0.862560            0.861829   \n",
       "1           0.721517  ...            0.862487            0.861773   \n",
       "2           0.789475  ...            0.859610            0.859301   \n",
       "3           0.812491  ...            0.856548            0.856369   \n",
       "4           0.827934  ...            0.851215            0.850899   \n",
       "\n",
       "   split4_train_score  split5_train_score  split6_train_score  \\\n",
       "0            0.852658            0.859041            0.862963   \n",
       "1            0.852611            0.859039            0.862904   \n",
       "2            0.850545            0.858933            0.860281   \n",
       "3            0.848112            0.858699            0.857110   \n",
       "4            0.843529            0.857750            0.851038   \n",
       "\n",
       "   split7_train_score  split8_train_score  split9_train_score  \\\n",
       "0            0.861556            0.864670            0.867281   \n",
       "1            0.861489            0.864600            0.867202   \n",
       "2            0.858881            0.861894            0.864148   \n",
       "3            0.856110            0.859066            0.860931   \n",
       "4            0.851319            0.854213            0.855507   \n",
       "\n",
       "   mean_train_score  std_train_score  \n",
       "0          0.861239         0.003719  \n",
       "1          0.861179         0.003709  \n",
       "2          0.858754         0.003449  \n",
       "3          0.856078         0.003410  \n",
       "4          0.851262         0.003820  \n",
       "\n",
       "[5 rows x 31 columns]"
      ],
      "text/html": [
       "<div>\n",
       "<style scoped>\n",
       "    .dataframe tbody tr th:only-of-type {\n",
       "        vertical-align: middle;\n",
       "    }\n",
       "\n",
       "    .dataframe tbody tr th {\n",
       "        vertical-align: top;\n",
       "    }\n",
       "\n",
       "    .dataframe thead th {\n",
       "        text-align: right;\n",
       "    }\n",
       "</style>\n",
       "<table border=\"1\" class=\"dataframe\">\n",
       "  <thead>\n",
       "    <tr style=\"text-align: right;\">\n",
       "      <th></th>\n",
       "      <th>mean_fit_time</th>\n",
       "      <th>std_fit_time</th>\n",
       "      <th>mean_score_time</th>\n",
       "      <th>std_score_time</th>\n",
       "      <th>param_alpha</th>\n",
       "      <th>params</th>\n",
       "      <th>split0_test_score</th>\n",
       "      <th>split1_test_score</th>\n",
       "      <th>split2_test_score</th>\n",
       "      <th>split3_test_score</th>\n",
       "      <th>...</th>\n",
       "      <th>split2_train_score</th>\n",
       "      <th>split3_train_score</th>\n",
       "      <th>split4_train_score</th>\n",
       "      <th>split5_train_score</th>\n",
       "      <th>split6_train_score</th>\n",
       "      <th>split7_train_score</th>\n",
       "      <th>split8_train_score</th>\n",
       "      <th>split9_train_score</th>\n",
       "      <th>mean_train_score</th>\n",
       "      <th>std_train_score</th>\n",
       "    </tr>\n",
       "  </thead>\n",
       "  <tbody>\n",
       "    <tr>\n",
       "      <th>0</th>\n",
       "      <td>0.005703</td>\n",
       "      <td>0.001675</td>\n",
       "      <td>0.002354</td>\n",
       "      <td>0.000747</td>\n",
       "      <td>0.001</td>\n",
       "      <td>{'alpha': 0.001}</td>\n",
       "      <td>0.854290</td>\n",
       "      <td>0.808328</td>\n",
       "      <td>0.809556</td>\n",
       "      <td>0.707713</td>\n",
       "      <td>...</td>\n",
       "      <td>0.862560</td>\n",
       "      <td>0.861829</td>\n",
       "      <td>0.852658</td>\n",
       "      <td>0.859041</td>\n",
       "      <td>0.862963</td>\n",
       "      <td>0.861556</td>\n",
       "      <td>0.864670</td>\n",
       "      <td>0.867281</td>\n",
       "      <td>0.861239</td>\n",
       "      <td>0.003719</td>\n",
       "    </tr>\n",
       "    <tr>\n",
       "      <th>1</th>\n",
       "      <td>0.005769</td>\n",
       "      <td>0.002403</td>\n",
       "      <td>0.001890</td>\n",
       "      <td>0.000794</td>\n",
       "      <td>0.010</td>\n",
       "      <td>{'alpha': 0.01}</td>\n",
       "      <td>0.854406</td>\n",
       "      <td>0.809241</td>\n",
       "      <td>0.809818</td>\n",
       "      <td>0.721517</td>\n",
       "      <td>...</td>\n",
       "      <td>0.862487</td>\n",
       "      <td>0.861773</td>\n",
       "      <td>0.852611</td>\n",
       "      <td>0.859039</td>\n",
       "      <td>0.862904</td>\n",
       "      <td>0.861489</td>\n",
       "      <td>0.864600</td>\n",
       "      <td>0.867202</td>\n",
       "      <td>0.861179</td>\n",
       "      <td>0.003709</td>\n",
       "    </tr>\n",
       "    <tr>\n",
       "      <th>2</th>\n",
       "      <td>0.005412</td>\n",
       "      <td>0.002838</td>\n",
       "      <td>0.001750</td>\n",
       "      <td>0.000364</td>\n",
       "      <td>0.100</td>\n",
       "      <td>{'alpha': 0.1}</td>\n",
       "      <td>0.854969</td>\n",
       "      <td>0.816043</td>\n",
       "      <td>0.811879</td>\n",
       "      <td>0.789475</td>\n",
       "      <td>...</td>\n",
       "      <td>0.859610</td>\n",
       "      <td>0.859301</td>\n",
       "      <td>0.850545</td>\n",
       "      <td>0.858933</td>\n",
       "      <td>0.860281</td>\n",
       "      <td>0.858881</td>\n",
       "      <td>0.861894</td>\n",
       "      <td>0.864148</td>\n",
       "      <td>0.858754</td>\n",
       "      <td>0.003449</td>\n",
       "    </tr>\n",
       "    <tr>\n",
       "      <th>3</th>\n",
       "      <td>0.003842</td>\n",
       "      <td>0.000344</td>\n",
       "      <td>0.001523</td>\n",
       "      <td>0.000235</td>\n",
       "      <td>0.200</td>\n",
       "      <td>{'alpha': 0.2}</td>\n",
       "      <td>0.855305</td>\n",
       "      <td>0.821154</td>\n",
       "      <td>0.813657</td>\n",
       "      <td>0.812491</td>\n",
       "      <td>...</td>\n",
       "      <td>0.856548</td>\n",
       "      <td>0.856369</td>\n",
       "      <td>0.848112</td>\n",
       "      <td>0.858699</td>\n",
       "      <td>0.857110</td>\n",
       "      <td>0.856110</td>\n",
       "      <td>0.859066</td>\n",
       "      <td>0.860931</td>\n",
       "      <td>0.856078</td>\n",
       "      <td>0.003410</td>\n",
       "    </tr>\n",
       "    <tr>\n",
       "      <th>4</th>\n",
       "      <td>0.004165</td>\n",
       "      <td>0.000683</td>\n",
       "      <td>0.001575</td>\n",
       "      <td>0.000230</td>\n",
       "      <td>0.500</td>\n",
       "      <td>{'alpha': 0.5}</td>\n",
       "      <td>0.855954</td>\n",
       "      <td>0.830190</td>\n",
       "      <td>0.817395</td>\n",
       "      <td>0.827934</td>\n",
       "      <td>...</td>\n",
       "      <td>0.851215</td>\n",
       "      <td>0.850899</td>\n",
       "      <td>0.843529</td>\n",
       "      <td>0.857750</td>\n",
       "      <td>0.851038</td>\n",
       "      <td>0.851319</td>\n",
       "      <td>0.854213</td>\n",
       "      <td>0.855507</td>\n",
       "      <td>0.851262</td>\n",
       "      <td>0.003820</td>\n",
       "    </tr>\n",
       "  </tbody>\n",
       "</table>\n",
       "<p>5 rows × 31 columns</p>\n",
       "</div>"
      ]
     },
     "metadata": {},
     "execution_count": 63
    }
   ],
   "metadata": {}
  },
  {
   "cell_type": "code",
   "execution_count": 64,
   "source": [
    "plt.figure(figsize=(16,8))\n",
    "plt.plot(cv_result_r['param_alpha'],cv_result_r['mean_train_score'])\n",
    "plt.plot(cv_result_r['param_alpha'],cv_result_r['mean_test_score'])\n",
    "plt.xlabel('Alpha')\n",
    "# plt.xscale('log')\n",
    "plt.ylabel('R2 Score')\n",
    "plt.show()"
   ],
   "outputs": [
    {
     "output_type": "display_data",
     "data": {
      "text/plain": [
       "<Figure size 1152x576 with 1 Axes>"
      ],
      "image/png": "[encoded data removed]"
     },
     "metadata": {
      "needs_background": "light"
     }
    }
   ],
   "metadata": {}
  },
  {
   "cell_type": "code",
   "execution_count": 65,
   "source": [
    "\n",
    "# Checking the best parameter(Alpha value)\n",
    "model_cv.best_params_"
   ],
   "outputs": [
    {
     "output_type": "execute_result",
     "data": {
      "text/plain": [
       "{'alpha': 5.0}"
      ]
     },
     "metadata": {},
     "execution_count": 65
    }
   ],
   "metadata": {}
  },
  {
   "cell_type": "code",
   "execution_count": 69,
   "source": [
    "ridge = Ridge(alpha = 5.0)\n",
    "ridge.fit(X_train,y_train)\n",
    "\n",
    "y_pred_train = ridge.predict(X_train)\n",
    "print(r2_score(y_train,y_pred_train))\n",
    "\n",
    "y_pred_test = ridge.predict(X_test)\n",
    "print(r2_score(y_test,y_pred_test))"
   ],
   "outputs": [
    {
     "output_type": "stream",
     "name": "stdout",
     "text": [
      "0.8352117820425163\n",
      "0.8681963373751902\n"
     ]
    }
   ],
   "metadata": {}
  },
  {
   "cell_type": "markdown",
   "source": [
    "### `From above r2_score we can finalize lasso is currect modle so i will choose lasso for the modling and also we can easily eliminate the Features via Lasso`"
   ],
   "metadata": {}
  },
  {
   "cell_type": "markdown",
   "source": [
    "## `Final Model`"
   ],
   "metadata": {}
  },
  {
   "cell_type": "code",
   "execution_count": 67,
   "source": [
    "# Verifying with the best Alpah Value\n",
    "lasso = Lasso(alpha = 10.0)\n",
    "lasso.fit(X_train,y_train)\n",
    "\n",
    "y_train_pred = lasso.predict(X_train)\n",
    "y_test_pred = lasso.predict(X_test)\n",
    "\n",
    "print(r2_score(y_true=y_train,y_pred=y_train_pred))\n",
    "print(r2_score(y_true=y_test,y_pred=y_test_pred))"
   ],
   "outputs": [
    {
     "output_type": "stream",
     "name": "stdout",
     "text": [
      "0.8582886298530916\n",
      "0.8417578129243345\n"
     ]
    }
   ],
   "metadata": {}
  },
  {
   "cell_type": "markdown",
   "source": [
    "### `Best Alpha value for lasso = 10.0`\n",
    "### `Best Alpha Value for lasso = 5.0`"
   ],
   "metadata": {}
  },
  {
   "cell_type": "markdown",
   "source": [
    "### `My Top 5 Features would be`\n",
    "1. Exterior1st_CBlock\t\n",
    "2. RoofMatl_WdShngl\t\n",
    "3. \tRoofMatl_Metal\t \n",
    "4. RoofMatl_Tar&Grv\t\n",
    "5. \tRoofMatl_WdShake\t"
   ],
   "metadata": {}
  },
  {
   "cell_type": "markdown",
   "source": [
    "### `My next 5 Features would be`\n",
    "1. RoofMatl_Roll\t\n",
    "2.\tCondition2_PosN\t\n",
    "3.\tNeighborhood_NridgHt\t\n",
    "4.\tSaleCondition_Partial\t\n",
    "5.\tSaleType_New\t"
   ],
   "metadata": {}
  },
  {
   "cell_type": "code",
   "execution_count": null,
   "source": [],
   "outputs": [],
   "metadata": {}
  }
 ],
 "metadata": {
  "kernelspec": {
   "display_name": "Python 3",
   "language": "python",
   "name": "python3"
  },
  "language_info": {
   "codemirror_mode": {
    "name": "ipython",
    "version": 3
   },
   "file_extension": ".py",
   "mimetype": "text/x-python",
   "name": "python",
   "nbconvert_exporter": "python",
   "pygments_lexer": "ipython3",
   "version": "3.8.5"
  }
 },
 "nbformat": 4,
 "nbformat_minor": 4
}